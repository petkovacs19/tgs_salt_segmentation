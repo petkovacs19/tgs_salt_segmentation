{
 "cells": [
  {
   "cell_type": "markdown",
   "metadata": {
    "_uuid": "c8fc6c3e84f282d0e6f664caf9848297b6c62a16"
   },
   "source": [
    "### U-net with simple Resnet Blocks v2, can get 0.80+\n",
    "* Original version : \n",
    "  https://www.kaggle.com/shaojiaxin/u-net-with-simple-resnet-blocks\n",
    "        \n",
    "        \n",
    "#### update log\n",
    "1.   Cancel last dropout (seems better)\n",
    "2.  modify convolution_block, to be more consistant with the standard resent model. \n",
    "      * https://arxiv.org/abs/1603.05027\n",
    "3. Use faster  IOU metric score code,\n",
    "      * https://www.kaggle.com/donchuk/fast-implementation-of-scoring-metric\n",
    "4. Use  binary_crossentropy loss and then Lovász-hinge loss (very slow!)\n",
    "     * Lovász-hinge loss: https://github.com/bermanmaxim/LovaszSoftmax\n",
    "     \n",
    "Limit the max epochs number to make the kernel finish in the limit of 6 hours, better score can be achived at more epochs "
   ]
  },
  {
   "cell_type": "code",
   "execution_count": 10,
   "metadata": {
    "_cell_guid": "b1076dfc-b9ad-4769-8c92-a6c4dae69d19",
    "_uuid": "8f2839f25d086af736a60e9eeb907d3b93b6e0e5"
   },
   "outputs": [],
   "source": [
    "import os\n",
    "import sys\n",
    "import random\n",
    "\n",
    "import pandas as pd\n",
    "import numpy as np\n",
    "import matplotlib.pyplot as plt\n",
    "plt.style.use('seaborn-white')\n",
    "import seaborn as sns\n",
    "sns.set_style(\"white\")\n",
    "\n",
    "%matplotlib inline\n",
    "\n",
    "# import cv2\n",
    "from sklearn.model_selection import train_test_split\n",
    "\n",
    "from tqdm import tqdm_notebook #, tnrange\n",
    "#from itertools import chain\n",
    "from skimage.io import imread, imshow #, concatenate_images\n",
    "from skimage.transform import resize\n",
    "from skimage.morphology import label\n",
    "\n",
    "from keras.models import Model, load_model, save_model\n",
    "from keras.layers import Input,Dropout,BatchNormalization,Activation,Add\n",
    "from keras.layers.core import Lambda\n",
    "from keras.layers.convolutional import Conv2D, Conv2DTranspose\n",
    "from keras.layers.pooling import MaxPooling2D\n",
    "from keras.layers.merge import concatenate\n",
    "from keras.callbacks import EarlyStopping, ModelCheckpoint, ReduceLROnPlateau\n",
    "from keras import backend as K\n",
    "from keras import optimizers\n",
    "\n",
    "import tensorflow as tf\n",
    "\n",
    "from keras.preprocessing.image import array_to_img, img_to_array, load_img#,save_img\n",
    "\n",
    "import time\n",
    "t_start = time.time()"
   ]
  },
  {
   "cell_type": "code",
   "execution_count": 11,
   "metadata": {
    "_uuid": "2c36d16775556c3e358edefab5710dc1541ccfc4"
   },
   "outputs": [
    {
     "name": "stdout",
     "output_type": "stream",
     "text": [
      "Unet_resnet_v5.model\n",
      "Unet_resnet_v5.csv\n"
     ]
    }
   ],
   "source": [
    "version = 5\n",
    "basic_name = f'Unet_resnet_v{version}'\n",
    "save_model_name = basic_name + '.model'\n",
    "submission_file = basic_name + '.csv'\n",
    "\n",
    "print(save_model_name)\n",
    "print(submission_file)"
   ]
  },
  {
   "cell_type": "code",
   "execution_count": 12,
   "metadata": {
    "_uuid": "63c469280793719bf311d51e6ba2cdaea157d175"
   },
   "outputs": [],
   "source": [
    "img_size_ori = 101\n",
    "img_size_target = 101\n",
    "\n",
    "def upsample(img):# not used\n",
    "    if img_size_ori == img_size_target:\n",
    "        return img\n",
    "    return resize(img, (img_size_target, img_size_target), mode='constant', preserve_range=True)\n",
    "    \n",
    "def downsample(img):# not used\n",
    "    if img_size_ori == img_size_target:\n",
    "        return img\n",
    "    return resize(img, (img_size_ori, img_size_ori), mode='constant', preserve_range=True)"
   ]
  },
  {
   "cell_type": "code",
   "execution_count": 13,
   "metadata": {
    "_uuid": "1a64babef03b9a0dbc94387a1dad54971c3e028d"
   },
   "outputs": [
    {
     "data": {
      "text/plain": [
       "4000"
      ]
     },
     "execution_count": 13,
     "metadata": {},
     "output_type": "execute_result"
    }
   ],
   "source": [
    "# Loading of training/testing ids and depths\n",
    "train_df = pd.read_csv(\"./train.csv\", index_col=\"id\", usecols=[0])\n",
    "depths_df = pd.read_csv(\"./depths.csv\", index_col=\"id\")\n",
    "train_df = train_df.join(depths_df)\n",
    "test_df = depths_df[~depths_df.index.isin(train_df.index)]\n",
    "\n",
    "len(train_df)"
   ]
  },
  {
   "cell_type": "code",
   "execution_count": 14,
   "metadata": {
    "_uuid": "80c3768717007fb5f087d3e01619f1a9f9a3beac"
   },
   "outputs": [
    {
     "data": {
      "application/vnd.jupyter.widget-view+json": {
       "model_id": "7fa59037356b4529ba885fc9d05cb6be",
       "version_major": 2,
       "version_minor": 0
      },
      "text/plain": [
       "HBox(children=(IntProgress(value=0, max=4000), HTML(value='')))"
      ]
     },
     "metadata": {},
     "output_type": "display_data"
    },
    {
     "name": "stdout",
     "output_type": "stream",
     "text": [
      "\n"
     ]
    }
   ],
   "source": [
    "train_df[\"images\"] = [np.array(load_img(\"/home/pkovacs/images/{}.png\".format(idx), grayscale=True)) / 255 for idx in tqdm_notebook(train_df.index)]"
   ]
  },
  {
   "cell_type": "code",
   "execution_count": 15,
   "metadata": {
    "_uuid": "9f55103f7daad6f03ec874c643077fe686c31bee"
   },
   "outputs": [
    {
     "data": {
      "application/vnd.jupyter.widget-view+json": {
       "model_id": "b40f122c1bd54573bf8a5896f312b805",
       "version_major": 2,
       "version_minor": 0
      },
      "text/plain": [
       "HBox(children=(IntProgress(value=0, max=4000), HTML(value='')))"
      ]
     },
     "metadata": {},
     "output_type": "display_data"
    },
    {
     "name": "stdout",
     "output_type": "stream",
     "text": [
      "\n"
     ]
    }
   ],
   "source": [
    "train_df[\"masks\"] = [np.array(load_img(\"/home/pkovacs/masks/{}.png\".format(idx), grayscale=True)) / 255 for idx in tqdm_notebook(train_df.index)]"
   ]
  },
  {
   "cell_type": "code",
   "execution_count": 16,
   "metadata": {
    "_uuid": "010066dd50ef4fdfa7dabe2c946fd7491f9556fd"
   },
   "outputs": [],
   "source": [
    "train_df[\"coverage\"] = train_df.masks.map(np.sum) / pow(img_size_ori, 2)\n",
    "\n",
    "def cov_to_class(val):    \n",
    "    for i in range(0, 11):\n",
    "        if val * 10 <= i :\n",
    "            return i\n",
    "        \n",
    "train_df[\"coverage_class\"] = train_df.coverage.map(cov_to_class)\n"
   ]
  },
  {
   "cell_type": "code",
   "execution_count": 17,
   "metadata": {
    "_uuid": "2ad5ac1576277fc54d768933c36efd1f9ff01acd"
   },
   "outputs": [
    {
     "name": "stderr",
     "output_type": "stream",
     "text": [
      "/home/pkovacs/anaconda3/envs/exp/lib/python3.6/site-packages/matplotlib/axes/_axes.py:6462: UserWarning: The 'normed' kwarg is deprecated, and has been replaced by the 'density' kwarg.\n",
      "  warnings.warn(\"The 'normed' kwarg is deprecated, and has been \"\n",
      "/home/pkovacs/anaconda3/envs/exp/lib/python3.6/site-packages/matplotlib/axes/_axes.py:6462: UserWarning: The 'normed' kwarg is deprecated, and has been replaced by the 'density' kwarg.\n",
      "  warnings.warn(\"The 'normed' kwarg is deprecated, and has been \"\n"
     ]
    },
    {
     "data": {
      "text/plain": [
       "Text(0.5,0,'Coverage class')"
      ]
     },
     "execution_count": 17,
     "metadata": {},
     "output_type": "execute_result"
    },
    {
     "data": {
      "image/png": "[encoded data removed]",
      "text/plain": [
       "<Figure size 1080x360 with 2 Axes>"
      ]
     },
     "metadata": {},
     "output_type": "display_data"
    }
   ],
   "source": [
    "fig, axs = plt.subplots(1, 2, figsize=(15,5))\n",
    "sns.distplot(train_df.coverage, kde=False, ax=axs[0])\n",
    "sns.distplot(train_df.coverage_class, bins=10, kde=False, ax=axs[1])\n",
    "plt.suptitle(\"Salt coverage\")\n",
    "axs[0].set_xlabel(\"Coverage\")\n",
    "axs[1].set_xlabel(\"Coverage class\")"
   ]
  },
  {
   "cell_type": "code",
   "execution_count": 18,
   "metadata": {
    "_uuid": "9f34c4263989a3d95af1e5922c1b7d2126655610"
   },
   "outputs": [
    {
     "name": "stderr",
     "output_type": "stream",
     "text": [
      "/home/pkovacs/anaconda3/envs/exp/lib/python3.6/site-packages/matplotlib/axes/_axes.py:6462: UserWarning: The 'normed' kwarg is deprecated, and has been replaced by the 'density' kwarg.\n",
      "  warnings.warn(\"The 'normed' kwarg is deprecated, and has been \"\n",
      "/home/pkovacs/anaconda3/envs/exp/lib/python3.6/site-packages/matplotlib/axes/_axes.py:6462: UserWarning: The 'normed' kwarg is deprecated, and has been replaced by the 'density' kwarg.\n",
      "  warnings.warn(\"The 'normed' kwarg is deprecated, and has been \"\n"
     ]
    },
    {
     "data": {
      "text/plain": [
       "Text(0.5,1,'Depth distribution')"
      ]
     },
     "execution_count": 18,
     "metadata": {},
     "output_type": "execute_result"
    },
    {
     "data": {
      "image/png": "[encoded data removed]",
      "text/plain": [
       "<Figure size 432x288 with 1 Axes>"
      ]
     },
     "metadata": {},
     "output_type": "display_data"
    }
   ],
   "source": [
    "#Plotting the depth distributions¶\n",
    "\n",
    "sns.distplot(train_df.z, label=\"Train\")\n",
    "sns.distplot(test_df.z, label=\"Test\")\n",
    "plt.legend()\n",
    "plt.title(\"Depth distribution\")"
   ]
  },
  {
   "cell_type": "code",
   "execution_count": 19,
   "metadata": {
    "_uuid": "51981795f0dd6b8ca7abe4db367f48313b63811e"
   },
   "outputs": [],
   "source": [
    "# Create train/validation split stratified by salt coverage\n",
    "\n",
    "ids_train, ids_valid, x_train, x_valid, y_train, y_valid, cov_train, cov_test, depth_train, depth_test = train_test_split(\n",
    "    train_df.index.values,\n",
    "    np.array(train_df.images.map(upsample).tolist()).reshape(-1, img_size_target, img_size_target, 1), \n",
    "    np.array(train_df.masks.map(upsample).tolist()).reshape(-1, img_size_target, img_size_target, 1), \n",
    "    train_df.coverage.values,\n",
    "    train_df.z.values,\n",
    "    test_size=0.2, stratify=train_df.coverage_class, random_state= 1234)"
   ]
  },
  {
   "cell_type": "code",
   "execution_count": 11,
   "metadata": {
    "_uuid": "7fb577cdf27f365d4a912728c2a7654d0e60fac8"
   },
   "outputs": [],
   "source": [
    "def BatchActivate(x):\n",
    "    x = BatchNormalization()(x)\n",
    "    x = Activation('relu')(x)\n",
    "    return x\n",
    "\n",
    "def convolution_block(x, filters, size, strides=(1,1), padding='same', activation=True):\n",
    "    x = Conv2D(filters, size, strides=strides, padding=padding)(x)\n",
    "    if activation == True:\n",
    "        x = BatchActivate(x)\n",
    "    return x\n",
    "\n",
    "def residual_block(blockInput, num_filters=16, batch_activate = False):\n",
    "    x = BatchActivate(blockInput)\n",
    "    x = convolution_block(x, num_filters, (3,3) )\n",
    "    x = convolution_block(x, num_filters, (3,3), activation=False)\n",
    "    x = Add()([x, blockInput])\n",
    "    if batch_activate:\n",
    "        x = BatchActivate(x)\n",
    "    return x\n"
   ]
  },
  {
   "cell_type": "code",
   "execution_count": 12,
   "metadata": {
    "_uuid": "02967d71ee7f936254ab54acf2aa7c2e038a2b21"
   },
   "outputs": [],
   "source": [
    "# Build model\n",
    "def build_model(input_layer, start_neurons, DropoutRatio = 0.5):\n",
    "    # 101 -> 50\n",
    "    conv1 = Conv2D(start_neurons * 1, (3, 3), activation=None, padding=\"same\")(input_layer)\n",
    "    conv1 = residual_block(conv1,start_neurons * 1)\n",
    "    conv1 = residual_block(conv1,start_neurons * 1, True)\n",
    "    pool1 = MaxPooling2D((2, 2))(conv1)\n",
    "    pool1 = Dropout(DropoutRatio/2)(pool1)\n",
    "\n",
    "    # 50 -> 25\n",
    "    conv2 = Conv2D(start_neurons * 2, (3, 3), activation=None, padding=\"same\")(pool1)\n",
    "    conv2 = residual_block(conv2,start_neurons * 2)\n",
    "    conv2 = residual_block(conv2,start_neurons * 2, True)\n",
    "    pool2 = MaxPooling2D((2, 2))(conv2)\n",
    "    pool2 = Dropout(DropoutRatio)(pool2)\n",
    "\n",
    "    # 25 -> 12\n",
    "    conv3 = Conv2D(start_neurons * 4, (3, 3), activation=None, padding=\"same\")(pool2)\n",
    "    conv3 = residual_block(conv3,start_neurons * 4)\n",
    "    conv3 = residual_block(conv3,start_neurons * 4, True)\n",
    "    pool3 = MaxPooling2D((2, 2))(conv3)\n",
    "    pool3 = Dropout(DropoutRatio)(pool3)\n",
    "\n",
    "    # 12 -> 6\n",
    "    conv4 = Conv2D(start_neurons * 8, (3, 3), activation=None, padding=\"same\")(pool3)\n",
    "    conv4 = residual_block(conv4,start_neurons * 8)\n",
    "    conv4 = residual_block(conv4,start_neurons * 8, True)\n",
    "    pool4 = MaxPooling2D((2, 2))(conv4)\n",
    "    pool4 = Dropout(DropoutRatio)(pool4)\n",
    "\n",
    "    # Middle\n",
    "    convm = Conv2D(start_neurons * 16, (3, 3), activation=None, padding=\"same\")(pool4)\n",
    "    convm = residual_block(convm,start_neurons * 16)\n",
    "    convm = residual_block(convm,start_neurons * 16, True)\n",
    "    \n",
    "    # 6 -> 12\n",
    "    deconv4 = Conv2DTranspose(start_neurons * 8, (3, 3), strides=(2, 2), padding=\"same\")(convm)\n",
    "    uconv4 = concatenate([deconv4, conv4])\n",
    "    uconv4 = Dropout(DropoutRatio)(uconv4)\n",
    "    \n",
    "    uconv4 = Conv2D(start_neurons * 8, (3, 3), activation=None, padding=\"same\")(uconv4)\n",
    "    uconv4 = residual_block(uconv4,start_neurons * 8)\n",
    "    uconv4 = residual_block(uconv4,start_neurons * 8, True)\n",
    "    \n",
    "    # 12 -> 25\n",
    "    #deconv3 = Conv2DTranspose(start_neurons * 4, (3, 3), strides=(2, 2), padding=\"same\")(uconv4)\n",
    "    deconv3 = Conv2DTranspose(start_neurons * 4, (3, 3), strides=(2, 2), padding=\"valid\")(uconv4)\n",
    "    uconv3 = concatenate([deconv3, conv3])    \n",
    "    uconv3 = Dropout(DropoutRatio)(uconv3)\n",
    "    \n",
    "    uconv3 = Conv2D(start_neurons * 4, (3, 3), activation=None, padding=\"same\")(uconv3)\n",
    "    uconv3 = residual_block(uconv3,start_neurons * 4)\n",
    "    uconv3 = residual_block(uconv3,start_neurons * 4, True)\n",
    "\n",
    "    # 25 -> 50\n",
    "    deconv2 = Conv2DTranspose(start_neurons * 2, (3, 3), strides=(2, 2), padding=\"same\")(uconv3)\n",
    "    uconv2 = concatenate([deconv2, conv2])\n",
    "        \n",
    "    uconv2 = Dropout(DropoutRatio)(uconv2)\n",
    "    uconv2 = Conv2D(start_neurons * 2, (3, 3), activation=None, padding=\"same\")(uconv2)\n",
    "    uconv2 = residual_block(uconv2,start_neurons * 2)\n",
    "    uconv2 = residual_block(uconv2,start_neurons * 2, True)\n",
    "    \n",
    "    # 50 -> 101\n",
    "    #deconv1 = Conv2DTranspose(start_neurons * 1, (3, 3), strides=(2, 2), padding=\"same\")(uconv2)\n",
    "    deconv1 = Conv2DTranspose(start_neurons * 1, (3, 3), strides=(2, 2), padding=\"valid\")(uconv2)\n",
    "    uconv1 = concatenate([deconv1, conv1])\n",
    "    \n",
    "    uconv1 = Dropout(DropoutRatio)(uconv1)\n",
    "    uconv1 = Conv2D(start_neurons * 1, (3, 3), activation=None, padding=\"same\")(uconv1)\n",
    "    uconv1 = residual_block(uconv1,start_neurons * 1)\n",
    "    uconv1 = residual_block(uconv1,start_neurons * 1, True)\n",
    "    \n",
    "    #uconv1 = Dropout(DropoutRatio/2)(uconv1)\n",
    "    #output_layer = Conv2D(1, (1,1), padding=\"same\", activation=\"sigmoid\")(uconv1)\n",
    "    output_layer_noActi = Conv2D(1, (1,1), padding=\"same\", activation=None)(uconv1)\n",
    "    output_layer =  Activation('sigmoid')(output_layer_noActi)\n",
    "    \n",
    "    return output_layer"
   ]
  },
  {
   "cell_type": "code",
   "execution_count": 4,
   "metadata": {
    "_uuid": "2bd5e479d3aa211bcb5fe32ce9c4d71cd012eefa"
   },
   "outputs": [],
   "source": [
    "def get_iou_vector(A, B):\n",
    "    batch_size = A.shape[0]\n",
    "    metric = []\n",
    "    for batch in range(batch_size):\n",
    "        t, p = A[batch]>0, B[batch]>0  \n",
    "        intersection = np.logical_and(t, p)\n",
    "        union = np.logical_or(t, p)\n",
    "        iou = (np.sum(intersection > 0) + 1e-10 )/ (np.sum(union > 0) + 1e-10)\n",
    "        thresholds = np.arange(0.5, 1, 0.05)\n",
    "        s = []\n",
    "        for thresh in thresholds:\n",
    "            s.append(iou > thresh)\n",
    "        metric.append(np.mean(s))\n",
    "\n",
    "    return np.mean(metric)\n",
    "\n",
    "def my_iou_metric(label, pred):\n",
    "    return tf.py_func(get_iou_vector, [label, pred>0.5], tf.float64)\n",
    "\n",
    "def my_iou_metric_2(label, pred):\n",
    "    return tf.py_func(get_iou_vector, [label, pred >0], tf.float64)"
   ]
  },
  {
   "cell_type": "code",
   "execution_count": 5,
   "metadata": {
    "_uuid": "e25caa2102813289cbd74796b612fbbfaaff8154"
   },
   "outputs": [],
   "source": [
    "# code download from: https://github.com/bermanmaxim/LovaszSoftmax\n",
    "def lovasz_grad(gt_sorted):\n",
    "    \"\"\"\n",
    "    Computes gradient of the Lovasz extension w.r.t sorted errors\n",
    "    See Alg. 1 in paper\n",
    "    \"\"\"\n",
    "    gts = tf.reduce_sum(gt_sorted)\n",
    "    intersection = gts - tf.cumsum(gt_sorted)\n",
    "    union = gts + tf.cumsum(1. - gt_sorted)\n",
    "    jaccard = 1. - intersection / union\n",
    "    jaccard = tf.concat((jaccard[0:1], jaccard[1:] - jaccard[:-1]), 0)\n",
    "    return jaccard\n",
    "\n",
    "\n",
    "# --------------------------- BINARY LOSSES ---------------------------\n",
    "\n",
    "def lovasz_hinge(logits, labels, per_image=True, ignore=None):\n",
    "    \"\"\"\n",
    "    Binary Lovasz hinge loss\n",
    "      logits: [B, H, W] Variable, logits at each pixel (between -\\infty and +\\infty)\n",
    "      labels: [B, H, W] Tensor, binary ground truth masks (0 or 1)\n",
    "      per_image: compute the loss per image instead of per batch\n",
    "      ignore: void class id\n",
    "    \"\"\"\n",
    "    if per_image:\n",
    "        def treat_image(log_lab):\n",
    "            log, lab = log_lab\n",
    "            log, lab = tf.expand_dims(log, 0), tf.expand_dims(lab, 0)\n",
    "            log, lab = flatten_binary_scores(log, lab, ignore)\n",
    "            return lovasz_hinge_flat(log, lab)\n",
    "        losses = tf.map_fn(treat_image, (logits, labels), dtype=tf.float32)\n",
    "        loss = tf.reduce_mean(losses)\n",
    "    else:\n",
    "        loss = lovasz_hinge_flat(*flatten_binary_scores(logits, labels, ignore))\n",
    "    return loss\n",
    "\n",
    "\n",
    "def lovasz_hinge_flat(logits, labels):\n",
    "    \"\"\"\n",
    "    Binary Lovasz hinge loss\n",
    "      logits: [P] Variable, logits at each prediction (between -\\infty and +\\infty)\n",
    "      labels: [P] Tensor, binary ground truth labels (0 or 1)\n",
    "      ignore: label to ignore\n",
    "    \"\"\"\n",
    "\n",
    "    def compute_loss():\n",
    "        labelsf = tf.cast(labels, logits.dtype)\n",
    "        signs = 2. * labelsf - 1.\n",
    "        errors = 1. - logits * tf.stop_gradient(signs)\n",
    "        errors_sorted, perm = tf.nn.top_k(errors, k=tf.shape(errors)[0], name=\"descending_sort\")\n",
    "        gt_sorted = tf.gather(labelsf, perm)\n",
    "        grad = lovasz_grad(gt_sorted)\n",
    "        loss = tf.tensordot(tf.nn.relu(errors_sorted), tf.stop_gradient(grad), 1, name=\"loss_non_void\")\n",
    "        return loss\n",
    "\n",
    "    # deal with the void prediction case (only void pixels)\n",
    "    loss = tf.cond(tf.equal(tf.shape(logits)[0], 0),\n",
    "                   lambda: tf.reduce_sum(logits) * 0.,\n",
    "                   compute_loss,\n",
    "                   strict=True,\n",
    "                   name=\"loss\"\n",
    "                   )\n",
    "    return loss\n",
    "\n",
    "\n",
    "def flatten_binary_scores(scores, labels, ignore=None):\n",
    "    \"\"\"\n",
    "    Flattens predictions in the batch (binary case)\n",
    "    Remove labels equal to 'ignore'\n",
    "    \"\"\"\n",
    "    scores = tf.reshape(scores, (-1,))\n",
    "    labels = tf.reshape(labels, (-1,))\n",
    "    if ignore is None:\n",
    "        return scores, labels\n",
    "    valid = tf.not_equal(labels, ignore)\n",
    "    vscores = tf.boolean_mask(scores, valid, name='valid_scores')\n",
    "    vlabels = tf.boolean_mask(labels, valid, name='valid_labels')\n",
    "    return vscores, vlabels\n",
    "\n",
    "def lovasz_loss(y_true, y_pred):\n",
    "    y_true, y_pred = K.cast(K.squeeze(y_true, -1), 'int32'), K.cast(K.squeeze(y_pred, -1), 'float32')\n",
    "    #logits = K.log(y_pred / (1. - y_pred))\n",
    "    logits = y_pred #Jiaxin\n",
    "    loss = lovasz_hinge(logits, y_true, per_image = True, ignore = None)\n",
    "    return loss"
   ]
  },
  {
   "cell_type": "code",
   "execution_count": 15,
   "metadata": {
    "_uuid": "072ab621d38cc93d26998f391357cb6efc791600"
   },
   "outputs": [
    {
     "name": "stdout",
     "output_type": "stream",
     "text": [
      "(6400, 101, 101, 1)\n",
      "(800, 101, 101, 1)\n"
     ]
    }
   ],
   "source": [
    "#Data augmentation\n",
    "x_train = np.append(x_train, [np.fliplr(x) for x in x_train], axis=0)\n",
    "y_train = np.append(y_train, [np.fliplr(x) for x in y_train], axis=0)\n",
    "print(x_train.shape)\n",
    "print(y_valid.shape)"
   ]
  },
  {
   "cell_type": "code",
   "execution_count": 16,
   "metadata": {
    "_uuid": "30622932f68888e895a9b8cac91810a1bb3c5e75"
   },
   "outputs": [],
   "source": [
    "# model\n",
    "input_layer = Input((img_size_target, img_size_target, 1))\n",
    "output_layer = build_model(input_layer, 16,0.5)\n",
    "\n",
    "model1 = Model(input_layer, output_layer)\n",
    "\n",
    "c = optimizers.adam(lr = 0.01)\n",
    "model1.compile(loss=\"binary_crossentropy\", optimizer=c, metrics=[my_iou_metric])\n",
    "\n",
    "#model1.summary()"
   ]
  },
  {
   "cell_type": "code",
   "execution_count": 17,
   "metadata": {
    "_uuid": "41699081be465c14e193ffad4fd00bd56840f156"
   },
   "outputs": [
    {
     "name": "stdout",
     "output_type": "stream",
     "text": [
      "Train on 6400 samples, validate on 800 samples\n",
      "Epoch 1/150\n",
      "6400/6400 [==============================] - 31s 5ms/step - loss: 0.4661 - my_iou_metric: 0.3168 - val_loss: 1.1997 - val_my_iou_metric: 0.3900\n",
      "\n",
      "Epoch 00001: my_iou_metric improved from -inf to 0.31680, saving model to Unet_resnet_v5.model\n",
      "Epoch 2/150\n",
      "6400/6400 [==============================] - 19s 3ms/step - loss: 0.3605 - my_iou_metric: 0.4952 - val_loss: 0.6112 - val_my_iou_metric: 0.4185\n",
      "\n",
      "Epoch 00002: my_iou_metric improved from 0.31680 to 0.49517, saving model to Unet_resnet_v5.model\n",
      "Epoch 3/150\n",
      "6400/6400 [==============================] - 19s 3ms/step - loss: 0.3076 - my_iou_metric: 0.5455 - val_loss: 0.8386 - val_my_iou_metric: 0.4224\n",
      "\n",
      "Epoch 00003: my_iou_metric improved from 0.49517 to 0.54552, saving model to Unet_resnet_v5.model\n",
      "Epoch 4/150\n",
      "6400/6400 [==============================] - 19s 3ms/step - loss: 0.2627 - my_iou_metric: 0.5636 - val_loss: 0.2860 - val_my_iou_metric: 0.5849\n",
      "\n",
      "Epoch 00004: my_iou_metric improved from 0.54552 to 0.56356, saving model to Unet_resnet_v5.model\n",
      "Epoch 5/150\n",
      "6400/6400 [==============================] - 19s 3ms/step - loss: 0.2344 - my_iou_metric: 0.5898 - val_loss: 0.2438 - val_my_iou_metric: 0.6180\n",
      "\n",
      "Epoch 00005: my_iou_metric improved from 0.56356 to 0.58984, saving model to Unet_resnet_v5.model\n",
      "Epoch 6/150\n",
      "6400/6400 [==============================] - 19s 3ms/step - loss: 0.2182 - my_iou_metric: 0.6106 - val_loss: 0.3139 - val_my_iou_metric: 0.5745\n",
      "\n",
      "Epoch 00006: my_iou_metric improved from 0.58984 to 0.61062, saving model to Unet_resnet_v5.model\n",
      "Epoch 7/150\n",
      "6400/6400 [==============================] - 19s 3ms/step - loss: 0.2126 - my_iou_metric: 0.6172 - val_loss: 0.3272 - val_my_iou_metric: 0.6215\n",
      "\n",
      "Epoch 00007: my_iou_metric improved from 0.61062 to 0.61722, saving model to Unet_resnet_v5.model\n",
      "Epoch 8/150\n",
      "6400/6400 [==============================] - 20s 3ms/step - loss: 0.2033 - my_iou_metric: 0.6268 - val_loss: 0.2841 - val_my_iou_metric: 0.6436\n",
      "\n",
      "Epoch 00008: my_iou_metric improved from 0.61722 to 0.62680, saving model to Unet_resnet_v5.model\n",
      "Epoch 9/150\n",
      "6400/6400 [==============================] - 19s 3ms/step - loss: 0.1941 - my_iou_metric: 0.6449 - val_loss: 0.2048 - val_my_iou_metric: 0.6241\n",
      "\n",
      "Epoch 00009: my_iou_metric improved from 0.62680 to 0.64491, saving model to Unet_resnet_v5.model\n",
      "Epoch 10/150\n",
      "6400/6400 [==============================] - 19s 3ms/step - loss: 0.1823 - my_iou_metric: 0.6606 - val_loss: 0.2734 - val_my_iou_metric: 0.6581\n",
      "\n",
      "Epoch 00010: my_iou_metric improved from 0.64491 to 0.66064, saving model to Unet_resnet_v5.model\n",
      "Epoch 11/150\n",
      "6400/6400 [==============================] - 19s 3ms/step - loss: 0.1839 - my_iou_metric: 0.6638 - val_loss: 0.6784 - val_my_iou_metric: 0.3744\n",
      "\n",
      "Epoch 00011: my_iou_metric improved from 0.66064 to 0.66377, saving model to Unet_resnet_v5.model\n",
      "Epoch 12/150\n",
      "6400/6400 [==============================] - 19s 3ms/step - loss: 0.1683 - my_iou_metric: 0.6784 - val_loss: 0.1852 - val_my_iou_metric: 0.6917\n",
      "\n",
      "Epoch 00012: my_iou_metric improved from 0.66377 to 0.67842, saving model to Unet_resnet_v5.model\n",
      "Epoch 13/150\n",
      "6400/6400 [==============================] - 19s 3ms/step - loss: 0.1656 - my_iou_metric: 0.6874 - val_loss: 0.2600 - val_my_iou_metric: 0.6342\n",
      "\n",
      "Epoch 00013: my_iou_metric improved from 0.67842 to 0.68736, saving model to Unet_resnet_v5.model\n",
      "Epoch 14/150\n",
      "6400/6400 [==============================] - 19s 3ms/step - loss: 0.1654 - my_iou_metric: 0.6802 - val_loss: 0.1729 - val_my_iou_metric: 0.7072\n",
      "\n",
      "Epoch 00014: my_iou_metric did not improve from 0.68736\n",
      "Epoch 15/150\n",
      "6400/6400 [==============================] - 19s 3ms/step - loss: 0.1561 - my_iou_metric: 0.6918 - val_loss: 0.2036 - val_my_iou_metric: 0.6957\n",
      "\n",
      "Epoch 00015: my_iou_metric improved from 0.68736 to 0.69180, saving model to Unet_resnet_v5.model\n",
      "Epoch 16/150\n",
      "6400/6400 [==============================] - 19s 3ms/step - loss: 0.1566 - my_iou_metric: 0.6967 - val_loss: 0.2652 - val_my_iou_metric: 0.6465\n",
      "\n",
      "Epoch 00016: my_iou_metric improved from 0.69180 to 0.69673, saving model to Unet_resnet_v5.model\n",
      "Epoch 17/150\n",
      "6400/6400 [==============================] - 19s 3ms/step - loss: 0.1518 - my_iou_metric: 0.7011 - val_loss: 0.1840 - val_my_iou_metric: 0.7230\n",
      "\n",
      "Epoch 00017: my_iou_metric improved from 0.69673 to 0.70108, saving model to Unet_resnet_v5.model\n",
      "Epoch 18/150\n",
      "6400/6400 [==============================] - 19s 3ms/step - loss: 0.1483 - my_iou_metric: 0.7020 - val_loss: 0.3277 - val_my_iou_metric: 0.6509\n",
      "\n",
      "Epoch 00018: my_iou_metric improved from 0.70108 to 0.70198, saving model to Unet_resnet_v5.model\n",
      "Epoch 19/150\n",
      "6400/6400 [==============================] - 19s 3ms/step - loss: 0.1420 - my_iou_metric: 0.7126 - val_loss: 0.1625 - val_my_iou_metric: 0.7125\n",
      "\n",
      "Epoch 00019: my_iou_metric improved from 0.70198 to 0.71261, saving model to Unet_resnet_v5.model\n",
      "Epoch 20/150\n",
      "6400/6400 [==============================] - 19s 3ms/step - loss: 0.1415 - my_iou_metric: 0.7181 - val_loss: 0.1731 - val_my_iou_metric: 0.7214\n",
      "\n",
      "Epoch 00020: my_iou_metric improved from 0.71261 to 0.71814, saving model to Unet_resnet_v5.model\n",
      "Epoch 21/150\n",
      "6400/6400 [==============================] - 19s 3ms/step - loss: 0.1349 - my_iou_metric: 0.7207 - val_loss: 0.1549 - val_my_iou_metric: 0.7325\n",
      "\n",
      "Epoch 00021: my_iou_metric improved from 0.71814 to 0.72067, saving model to Unet_resnet_v5.model\n",
      "Epoch 22/150\n",
      "6400/6400 [==============================] - 19s 3ms/step - loss: 0.1324 - my_iou_metric: 0.7308 - val_loss: 0.1633 - val_my_iou_metric: 0.7265\n",
      "\n",
      "Epoch 00022: my_iou_metric improved from 0.72067 to 0.73083, saving model to Unet_resnet_v5.model\n",
      "Epoch 23/150\n",
      "6400/6400 [==============================] - 20s 3ms/step - loss: 0.1411 - my_iou_metric: 0.7150 - val_loss: 0.2158 - val_my_iou_metric: 0.6861\n",
      "\n",
      "Epoch 00023: my_iou_metric did not improve from 0.73083\n",
      "Epoch 24/150\n",
      "6400/6400 [==============================] - 19s 3ms/step - loss: 0.1330 - my_iou_metric: 0.7275 - val_loss: 0.1784 - val_my_iou_metric: 0.7159\n",
      "\n",
      "Epoch 00024: my_iou_metric did not improve from 0.73083\n",
      "Epoch 25/150\n",
      "6400/6400 [==============================] - 19s 3ms/step - loss: 0.1260 - my_iou_metric: 0.7313 - val_loss: 0.2402 - val_my_iou_metric: 0.7231\n",
      "\n",
      "Epoch 00025: my_iou_metric improved from 0.73083 to 0.73125, saving model to Unet_resnet_v5.model\n",
      "Epoch 26/150\n",
      "6400/6400 [==============================] - 19s 3ms/step - loss: 0.1301 - my_iou_metric: 0.7338 - val_loss: 0.1602 - val_my_iou_metric: 0.7280\n",
      "\n",
      "Epoch 00026: my_iou_metric improved from 0.73125 to 0.73378, saving model to Unet_resnet_v5.model\n",
      "Epoch 27/150\n",
      "6400/6400 [==============================] - 19s 3ms/step - loss: 0.1246 - my_iou_metric: 0.7310 - val_loss: 0.2022 - val_my_iou_metric: 0.6749\n",
      "\n",
      "Epoch 00027: my_iou_metric did not improve from 0.73378\n",
      "Epoch 28/150\n",
      "6400/6400 [==============================] - 19s 3ms/step - loss: 0.1223 - my_iou_metric: 0.7393 - val_loss: 0.1850 - val_my_iou_metric: 0.7192\n",
      "\n",
      "Epoch 00028: my_iou_metric improved from 0.73378 to 0.73927, saving model to Unet_resnet_v5.model\n",
      "Epoch 29/150\n",
      "6400/6400 [==============================] - 19s 3ms/step - loss: 0.1196 - my_iou_metric: 0.7444 - val_loss: 0.1761 - val_my_iou_metric: 0.7401\n",
      "\n",
      "Epoch 00029: my_iou_metric improved from 0.73927 to 0.74444, saving model to Unet_resnet_v5.model\n",
      "Epoch 30/150\n",
      "6400/6400 [==============================] - 19s 3ms/step - loss: 0.1164 - my_iou_metric: 0.7415 - val_loss: 0.1522 - val_my_iou_metric: 0.7304\n",
      "\n",
      "Epoch 00030: my_iou_metric did not improve from 0.74444\n",
      "Epoch 31/150\n",
      "6400/6400 [==============================] - 19s 3ms/step - loss: 0.1166 - my_iou_metric: 0.7459 - val_loss: 0.5600 - val_my_iou_metric: 0.4614\n",
      "\n",
      "Epoch 00031: my_iou_metric improved from 0.74444 to 0.74592, saving model to Unet_resnet_v5.model\n",
      "Epoch 32/150\n",
      "6400/6400 [==============================] - 19s 3ms/step - loss: 0.1218 - my_iou_metric: 0.7339 - val_loss: 0.1623 - val_my_iou_metric: 0.7209\n",
      "\n",
      "Epoch 00032: my_iou_metric did not improve from 0.74592\n",
      "Epoch 33/150\n",
      "6400/6400 [==============================] - 19s 3ms/step - loss: 0.1133 - my_iou_metric: 0.7484 - val_loss: 0.1466 - val_my_iou_metric: 0.7458\n",
      "\n",
      "Epoch 00033: my_iou_metric improved from 0.74592 to 0.74844, saving model to Unet_resnet_v5.model\n"
     ]
    },
    {
     "name": "stdout",
     "output_type": "stream",
     "text": [
      "Epoch 34/150\n",
      "6400/6400 [==============================] - 19s 3ms/step - loss: 0.1127 - my_iou_metric: 0.7521 - val_loss: 0.1734 - val_my_iou_metric: 0.7322\n",
      "\n",
      "Epoch 00034: my_iou_metric improved from 0.74844 to 0.75211, saving model to Unet_resnet_v5.model\n",
      "Epoch 35/150\n",
      "6400/6400 [==============================] - 19s 3ms/step - loss: 0.1106 - my_iou_metric: 0.7514 - val_loss: 0.1523 - val_my_iou_metric: 0.7366\n",
      "\n",
      "Epoch 00035: my_iou_metric did not improve from 0.75211\n",
      "Epoch 36/150\n",
      "6400/6400 [==============================] - 19s 3ms/step - loss: 0.1109 - my_iou_metric: 0.7513 - val_loss: 0.1487 - val_my_iou_metric: 0.7408\n",
      "\n",
      "Epoch 00036: my_iou_metric did not improve from 0.75211\n",
      "Epoch 37/150\n",
      "6400/6400 [==============================] - 19s 3ms/step - loss: 0.1045 - my_iou_metric: 0.7560 - val_loss: 0.1530 - val_my_iou_metric: 0.7528\n",
      "\n",
      "Epoch 00037: my_iou_metric improved from 0.75211 to 0.75598, saving model to Unet_resnet_v5.model\n",
      "Epoch 38/150\n",
      "6400/6400 [==============================] - 18s 3ms/step - loss: 0.1011 - my_iou_metric: 0.7563 - val_loss: 0.1592 - val_my_iou_metric: 0.7545\n",
      "\n",
      "Epoch 00038: my_iou_metric improved from 0.75598 to 0.75630, saving model to Unet_resnet_v5.model\n",
      "Epoch 39/150\n",
      "6400/6400 [==============================] - 20s 3ms/step - loss: 0.1016 - my_iou_metric: 0.7562 - val_loss: 0.2957 - val_my_iou_metric: 0.6416\n",
      "\n",
      "Epoch 00039: my_iou_metric did not improve from 0.75630\n",
      "Epoch 40/150\n",
      "6400/6400 [==============================] - 19s 3ms/step - loss: 0.1053 - my_iou_metric: 0.7553 - val_loss: 0.1621 - val_my_iou_metric: 0.7395\n",
      "\n",
      "Epoch 00040: my_iou_metric did not improve from 0.75630\n",
      "Epoch 41/150\n",
      "6400/6400 [==============================] - 19s 3ms/step - loss: 0.0977 - my_iou_metric: 0.7598 - val_loss: 0.1651 - val_my_iou_metric: 0.7457\n",
      "\n",
      "Epoch 00041: my_iou_metric improved from 0.75630 to 0.75980, saving model to Unet_resnet_v5.model\n",
      "Epoch 42/150\n",
      "6400/6400 [==============================] - 19s 3ms/step - loss: 0.0936 - my_iou_metric: 0.7674 - val_loss: 0.1390 - val_my_iou_metric: 0.7410\n",
      "\n",
      "Epoch 00042: my_iou_metric improved from 0.75980 to 0.76741, saving model to Unet_resnet_v5.model\n",
      "Epoch 43/150\n",
      "6400/6400 [==============================] - 19s 3ms/step - loss: 0.0995 - my_iou_metric: 0.7611 - val_loss: 0.1935 - val_my_iou_metric: 0.7335\n",
      "\n",
      "Epoch 00043: my_iou_metric did not improve from 0.76741\n",
      "Epoch 44/150\n",
      "6400/6400 [==============================] - 19s 3ms/step - loss: 0.0979 - my_iou_metric: 0.7618 - val_loss: 0.1882 - val_my_iou_metric: 0.7115\n",
      "\n",
      "Epoch 00044: my_iou_metric did not improve from 0.76741\n",
      "Epoch 45/150\n",
      "6400/6400 [==============================] - 18s 3ms/step - loss: 0.0907 - my_iou_metric: 0.7766 - val_loss: 0.1670 - val_my_iou_metric: 0.7265\n",
      "\n",
      "Epoch 00045: my_iou_metric improved from 0.76741 to 0.77664, saving model to Unet_resnet_v5.model\n",
      "Epoch 46/150\n",
      "6400/6400 [==============================] - 19s 3ms/step - loss: 0.0909 - my_iou_metric: 0.7739 - val_loss: 0.1948 - val_my_iou_metric: 0.7478\n",
      "\n",
      "Epoch 00046: my_iou_metric did not improve from 0.77664\n",
      "Epoch 47/150\n",
      "6400/6400 [==============================] - 18s 3ms/step - loss: 0.0901 - my_iou_metric: 0.7701 - val_loss: 0.1516 - val_my_iou_metric: 0.7550\n",
      "\n",
      "Epoch 00047: my_iou_metric did not improve from 0.77664\n",
      "Epoch 48/150\n",
      "6400/6400 [==============================] - 18s 3ms/step - loss: 0.0860 - my_iou_metric: 0.7715 - val_loss: 0.1466 - val_my_iou_metric: 0.7519\n",
      "\n",
      "Epoch 00048: my_iou_metric did not improve from 0.77664\n",
      "Epoch 49/150\n",
      "6400/6400 [==============================] - 19s 3ms/step - loss: 0.0857 - my_iou_metric: 0.7791 - val_loss: 0.1606 - val_my_iou_metric: 0.7636\n",
      "\n",
      "Epoch 00049: my_iou_metric improved from 0.77664 to 0.77908, saving model to Unet_resnet_v5.model\n",
      "Epoch 50/150\n",
      "6400/6400 [==============================] - 19s 3ms/step - loss: 0.0833 - my_iou_metric: 0.7780 - val_loss: 0.1555 - val_my_iou_metric: 0.7439\n",
      "\n",
      "Epoch 00050: my_iou_metric did not improve from 0.77908\n",
      "Epoch 51/150\n",
      "6400/6400 [==============================] - 18s 3ms/step - loss: 0.0850 - my_iou_metric: 0.7793 - val_loss: 0.1719 - val_my_iou_metric: 0.7428\n",
      "\n",
      "Epoch 00051: my_iou_metric improved from 0.77908 to 0.77931, saving model to Unet_resnet_v5.model\n",
      "Epoch 52/150\n",
      "6400/6400 [==============================] - 19s 3ms/step - loss: 0.0883 - my_iou_metric: 0.7747 - val_loss: 0.2083 - val_my_iou_metric: 0.7060\n",
      "\n",
      "Epoch 00052: my_iou_metric did not improve from 0.77931\n",
      "Epoch 53/150\n",
      "6400/6400 [==============================] - 19s 3ms/step - loss: 0.0789 - my_iou_metric: 0.7901 - val_loss: 0.1573 - val_my_iou_metric: 0.7309\n",
      "\n",
      "Epoch 00053: my_iou_metric improved from 0.77931 to 0.79009, saving model to Unet_resnet_v5.model\n",
      "Epoch 54/150\n",
      "6400/6400 [==============================] - 19s 3ms/step - loss: 0.0765 - my_iou_metric: 0.7894 - val_loss: 0.1685 - val_my_iou_metric: 0.7664\n",
      "\n",
      "Epoch 00054: my_iou_metric did not improve from 0.79009\n",
      "Epoch 55/150\n",
      "6400/6400 [==============================] - 19s 3ms/step - loss: 0.0783 - my_iou_metric: 0.7825 - val_loss: 0.1529 - val_my_iou_metric: 0.7582\n",
      "\n",
      "Epoch 00055: my_iou_metric did not improve from 0.79009\n",
      "Epoch 56/150\n",
      "6400/6400 [==============================] - 19s 3ms/step - loss: 0.0809 - my_iou_metric: 0.7800 - val_loss: 0.1546 - val_my_iou_metric: 0.7709\n",
      "\n",
      "Epoch 00056: my_iou_metric did not improve from 0.79009\n",
      "Epoch 57/150\n",
      "6400/6400 [==============================] - 19s 3ms/step - loss: 0.0747 - my_iou_metric: 0.7933 - val_loss: 0.1476 - val_my_iou_metric: 0.7694\n",
      "\n",
      "Epoch 00057: my_iou_metric improved from 0.79009 to 0.79331, saving model to Unet_resnet_v5.model\n",
      "Epoch 58/150\n",
      "6400/6400 [==============================] - 19s 3ms/step - loss: 0.0763 - my_iou_metric: 0.7867 - val_loss: 0.1649 - val_my_iou_metric: 0.7591\n",
      "\n",
      "Epoch 00058: my_iou_metric did not improve from 0.79331\n",
      "Epoch 59/150\n",
      "6400/6400 [==============================] - 19s 3ms/step - loss: 0.0705 - my_iou_metric: 0.7941 - val_loss: 0.1584 - val_my_iou_metric: 0.7638\n",
      "\n",
      "Epoch 00059: my_iou_metric improved from 0.79331 to 0.79408, saving model to Unet_resnet_v5.model\n",
      "Epoch 60/150\n",
      "6400/6400 [==============================] - 19s 3ms/step - loss: 0.0762 - my_iou_metric: 0.7843 - val_loss: 0.1583 - val_my_iou_metric: 0.7596\n",
      "\n",
      "Epoch 00060: my_iou_metric did not improve from 0.79408\n",
      "Epoch 61/150\n",
      "6400/6400 [==============================] - 19s 3ms/step - loss: 0.0720 - my_iou_metric: 0.7855 - val_loss: 0.1566 - val_my_iou_metric: 0.7698\n",
      "\n",
      "Epoch 00061: my_iou_metric did not improve from 0.79408\n",
      "Epoch 62/150\n",
      "6400/6400 [==============================] - 19s 3ms/step - loss: 0.0706 - my_iou_metric: 0.7890 - val_loss: 0.3001 - val_my_iou_metric: 0.6779\n",
      "\n",
      "Epoch 00062: my_iou_metric did not improve from 0.79408\n",
      "Epoch 63/150\n",
      "6400/6400 [==============================] - 19s 3ms/step - loss: 0.0674 - my_iou_metric: 0.8011 - val_loss: 0.1568 - val_my_iou_metric: 0.7586\n",
      "\n",
      "Epoch 00063: my_iou_metric improved from 0.79408 to 0.80106, saving model to Unet_resnet_v5.model\n",
      "Epoch 64/150\n",
      "6400/6400 [==============================] - 19s 3ms/step - loss: 0.0681 - my_iou_metric: 0.7969 - val_loss: 0.1740 - val_my_iou_metric: 0.7530\n",
      "\n",
      "Epoch 00064: my_iou_metric did not improve from 0.80106\n",
      "Epoch 65/150\n",
      "6400/6400 [==============================] - 19s 3ms/step - loss: 0.0674 - my_iou_metric: 0.7973 - val_loss: 0.1829 - val_my_iou_metric: 0.7611\n",
      "\n",
      "Epoch 00065: my_iou_metric did not improve from 0.80106\n",
      "Epoch 66/150\n",
      "6400/6400 [==============================] - 19s 3ms/step - loss: 0.0658 - my_iou_metric: 0.7968 - val_loss: 0.1532 - val_my_iou_metric: 0.7566\n",
      "\n",
      "Epoch 00066: my_iou_metric did not improve from 0.80106\n",
      "Epoch 67/150\n",
      "6400/6400 [==============================] - 19s 3ms/step - loss: 0.0699 - my_iou_metric: 0.7965 - val_loss: 0.2306 - val_my_iou_metric: 0.6498\n",
      "\n",
      "Epoch 00067: my_iou_metric did not improve from 0.80106\n",
      "Epoch 68/150\n",
      "6400/6400 [==============================] - 19s 3ms/step - loss: 0.0671 - my_iou_metric: 0.7993 - val_loss: 0.1693 - val_my_iou_metric: 0.7520\n",
      "\n",
      "Epoch 00068: my_iou_metric did not improve from 0.80106\n",
      "\n",
      "Epoch 00068: ReduceLROnPlateau reducing learning rate to 0.004999999888241291.\n",
      "Epoch 69/150\n",
      "6400/6400 [==============================] - 19s 3ms/step - loss: 0.0533 - my_iou_metric: 0.8160 - val_loss: 0.1527 - val_my_iou_metric: 0.7765\n"
     ]
    },
    {
     "name": "stdout",
     "output_type": "stream",
     "text": [
      "\n",
      "Epoch 00069: my_iou_metric improved from 0.80106 to 0.81605, saving model to Unet_resnet_v5.model\n",
      "Epoch 70/150\n",
      "6400/6400 [==============================] - 19s 3ms/step - loss: 0.0507 - my_iou_metric: 0.8179 - val_loss: 0.1586 - val_my_iou_metric: 0.7838\n",
      "\n",
      "Epoch 00070: my_iou_metric improved from 0.81605 to 0.81792, saving model to Unet_resnet_v5.model\n",
      "Epoch 71/150\n",
      "6400/6400 [==============================] - 19s 3ms/step - loss: 0.0475 - my_iou_metric: 0.8258 - val_loss: 0.1601 - val_my_iou_metric: 0.7741\n",
      "\n",
      "Epoch 00071: my_iou_metric improved from 0.81792 to 0.82578, saving model to Unet_resnet_v5.model\n",
      "Epoch 72/150\n",
      "6400/6400 [==============================] - 19s 3ms/step - loss: 0.0480 - my_iou_metric: 0.8279 - val_loss: 0.1635 - val_my_iou_metric: 0.7751\n",
      "\n",
      "Epoch 00072: my_iou_metric improved from 0.82578 to 0.82789, saving model to Unet_resnet_v5.model\n",
      "Epoch 73/150\n",
      "6400/6400 [==============================] - 19s 3ms/step - loss: 0.0471 - my_iou_metric: 0.8253 - val_loss: 0.1775 - val_my_iou_metric: 0.7706\n",
      "\n",
      "Epoch 00073: my_iou_metric did not improve from 0.82789\n",
      "Epoch 74/150\n",
      "6400/6400 [==============================] - 19s 3ms/step - loss: 0.0483 - my_iou_metric: 0.8248 - val_loss: 0.1553 - val_my_iou_metric: 0.7781\n",
      "\n",
      "Epoch 00074: my_iou_metric did not improve from 0.82789\n",
      "Epoch 75/150\n",
      "6400/6400 [==============================] - 19s 3ms/step - loss: 0.0413 - my_iou_metric: 0.8323 - val_loss: 0.1698 - val_my_iou_metric: 0.7617\n",
      "\n",
      "Epoch 00075: my_iou_metric improved from 0.82789 to 0.83225, saving model to Unet_resnet_v5.model\n",
      "Epoch 76/150\n",
      "6400/6400 [==============================] - 19s 3ms/step - loss: 0.0539 - my_iou_metric: 0.8156 - val_loss: 0.1639 - val_my_iou_metric: 0.7675\n",
      "\n",
      "Epoch 00076: my_iou_metric did not improve from 0.83225\n",
      "Epoch 77/150\n",
      "6400/6400 [==============================] - 19s 3ms/step - loss: 0.0464 - my_iou_metric: 0.8283 - val_loss: 0.1753 - val_my_iou_metric: 0.7702\n",
      "\n",
      "Epoch 00077: my_iou_metric did not improve from 0.83225\n",
      "Epoch 78/150\n",
      "6400/6400 [==============================] - 19s 3ms/step - loss: 0.0495 - my_iou_metric: 0.8233 - val_loss: 0.1561 - val_my_iou_metric: 0.7812\n",
      "\n",
      "Epoch 00078: my_iou_metric did not improve from 0.83225\n",
      "Epoch 79/150\n",
      "6400/6400 [==============================] - 19s 3ms/step - loss: 0.0452 - my_iou_metric: 0.8269 - val_loss: 0.1639 - val_my_iou_metric: 0.7831\n",
      "\n",
      "Epoch 00079: my_iou_metric did not improve from 0.83225\n",
      "Epoch 80/150\n",
      "6400/6400 [==============================] - 19s 3ms/step - loss: 0.0453 - my_iou_metric: 0.8243 - val_loss: 0.1763 - val_my_iou_metric: 0.7544\n",
      "\n",
      "Epoch 00080: my_iou_metric did not improve from 0.83225\n",
      "\n",
      "Epoch 00080: ReduceLROnPlateau reducing learning rate to 0.0024999999441206455.\n",
      "Epoch 81/150\n",
      "6400/6400 [==============================] - 19s 3ms/step - loss: 0.0398 - my_iou_metric: 0.8346 - val_loss: 0.1708 - val_my_iou_metric: 0.7780\n",
      "\n",
      "Epoch 00081: my_iou_metric improved from 0.83225 to 0.83461, saving model to Unet_resnet_v5.model\n",
      "Epoch 82/150\n",
      "6400/6400 [==============================] - 19s 3ms/step - loss: 0.0370 - my_iou_metric: 0.8398 - val_loss: 0.1816 - val_my_iou_metric: 0.7841\n",
      "\n",
      "Epoch 00082: my_iou_metric improved from 0.83461 to 0.83981, saving model to Unet_resnet_v5.model\n",
      "Epoch 83/150\n",
      "6400/6400 [==============================] - 19s 3ms/step - loss: 0.0377 - my_iou_metric: 0.8386 - val_loss: 0.1782 - val_my_iou_metric: 0.7794\n",
      "\n",
      "Epoch 00083: my_iou_metric did not improve from 0.83981\n",
      "Epoch 84/150\n",
      "6400/6400 [==============================] - 19s 3ms/step - loss: 0.0355 - my_iou_metric: 0.8432 - val_loss: 0.1782 - val_my_iou_metric: 0.7780\n",
      "\n",
      "Epoch 00084: my_iou_metric improved from 0.83981 to 0.84319, saving model to Unet_resnet_v5.model\n",
      "Epoch 85/150\n",
      "6400/6400 [==============================] - 19s 3ms/step - loss: 0.0363 - my_iou_metric: 0.8413 - val_loss: 0.1819 - val_my_iou_metric: 0.7876\n",
      "\n",
      "Epoch 00085: my_iou_metric did not improve from 0.84319\n",
      "Epoch 86/150\n",
      "6400/6400 [==============================] - 19s 3ms/step - loss: 0.0343 - my_iou_metric: 0.8468 - val_loss: 0.1872 - val_my_iou_metric: 0.7801\n",
      "\n",
      "Epoch 00086: my_iou_metric improved from 0.84319 to 0.84680, saving model to Unet_resnet_v5.model\n",
      "Epoch 87/150\n",
      "6400/6400 [==============================] - 19s 3ms/step - loss: 0.0361 - my_iou_metric: 0.8419 - val_loss: 0.1908 - val_my_iou_metric: 0.7935\n",
      "\n",
      "Epoch 00087: my_iou_metric did not improve from 0.84680\n",
      "Epoch 88/150\n",
      "6400/6400 [==============================] - 19s 3ms/step - loss: 0.0347 - my_iou_metric: 0.8457 - val_loss: 0.1893 - val_my_iou_metric: 0.7823\n",
      "\n",
      "Epoch 00088: my_iou_metric did not improve from 0.84680\n",
      "Epoch 89/150\n",
      "6400/6400 [==============================] - 19s 3ms/step - loss: 0.0363 - my_iou_metric: 0.8461 - val_loss: 0.1818 - val_my_iou_metric: 0.7751\n",
      "\n",
      "Epoch 00089: my_iou_metric did not improve from 0.84680\n",
      "Epoch 90/150\n",
      "6400/6400 [==============================] - 19s 3ms/step - loss: 0.0351 - my_iou_metric: 0.8463 - val_loss: 0.1851 - val_my_iou_metric: 0.7805\n",
      "\n",
      "Epoch 00090: my_iou_metric did not improve from 0.84680\n",
      "Epoch 91/150\n",
      "6400/6400 [==============================] - 19s 3ms/step - loss: 0.0340 - my_iou_metric: 0.8459 - val_loss: 0.1888 - val_my_iou_metric: 0.7803\n",
      "\n",
      "Epoch 00091: my_iou_metric did not improve from 0.84680\n",
      "\n",
      "Epoch 00091: ReduceLROnPlateau reducing learning rate to 0.0012499999720603228.\n",
      "Epoch 92/150\n",
      "6400/6400 [==============================] - 19s 3ms/step - loss: 0.0333 - my_iou_metric: 0.8497 - val_loss: 0.1835 - val_my_iou_metric: 0.7780\n",
      "\n",
      "Epoch 00092: my_iou_metric improved from 0.84680 to 0.84970, saving model to Unet_resnet_v5.model\n",
      "Epoch 93/150\n",
      "6400/6400 [==============================] - 19s 3ms/step - loss: 0.0326 - my_iou_metric: 0.8526 - val_loss: 0.1864 - val_my_iou_metric: 0.7787\n",
      "\n",
      "Epoch 00093: my_iou_metric improved from 0.84970 to 0.85258, saving model to Unet_resnet_v5.model\n",
      "Epoch 94/150\n",
      "6400/6400 [==============================] - 19s 3ms/step - loss: 0.0313 - my_iou_metric: 0.8533 - val_loss: 0.1947 - val_my_iou_metric: 0.7830\n",
      "\n",
      "Epoch 00094: my_iou_metric improved from 0.85258 to 0.85327, saving model to Unet_resnet_v5.model\n",
      "Epoch 95/150\n",
      "6400/6400 [==============================] - 19s 3ms/step - loss: 0.0329 - my_iou_metric: 0.8546 - val_loss: 0.1938 - val_my_iou_metric: 0.7806\n",
      "\n",
      "Epoch 00095: my_iou_metric improved from 0.85327 to 0.85463, saving model to Unet_resnet_v5.model\n",
      "Epoch 96/150\n",
      "6400/6400 [==============================] - 19s 3ms/step - loss: 0.0316 - my_iou_metric: 0.8521 - val_loss: 0.1989 - val_my_iou_metric: 0.7816\n",
      "\n",
      "Epoch 00096: my_iou_metric did not improve from 0.85463\n",
      "Epoch 97/150\n",
      "6400/6400 [==============================] - 19s 3ms/step - loss: 0.0313 - my_iou_metric: 0.8505 - val_loss: 0.1985 - val_my_iou_metric: 0.7754\n",
      "\n",
      "Epoch 00097: my_iou_metric did not improve from 0.85463\n",
      "Epoch 98/150\n",
      "6400/6400 [==============================] - 19s 3ms/step - loss: 0.0305 - my_iou_metric: 0.8552 - val_loss: 0.1967 - val_my_iou_metric: 0.7819\n",
      "\n",
      "Epoch 00098: my_iou_metric improved from 0.85463 to 0.85517, saving model to Unet_resnet_v5.model\n",
      "Epoch 99/150\n",
      "6400/6400 [==============================] - 19s 3ms/step - loss: 0.0313 - my_iou_metric: 0.8509 - val_loss: 0.2054 - val_my_iou_metric: 0.7816\n",
      "\n",
      "Epoch 00099: my_iou_metric did not improve from 0.85517\n",
      "Epoch 100/150\n",
      "6400/6400 [==============================] - 19s 3ms/step - loss: 0.0311 - my_iou_metric: 0.8509 - val_loss: 0.2187 - val_my_iou_metric: 0.7779\n",
      "\n",
      "Epoch 00100: my_iou_metric did not improve from 0.85517\n",
      "Epoch 101/150\n",
      "6400/6400 [==============================] - 19s 3ms/step - loss: 0.0305 - my_iou_metric: 0.8535 - val_loss: 0.2025 - val_my_iou_metric: 0.7833\n",
      "\n",
      "Epoch 00101: my_iou_metric did not improve from 0.85517\n",
      "Epoch 102/150\n",
      "6400/6400 [==============================] - 19s 3ms/step - loss: 0.0309 - my_iou_metric: 0.8546 - val_loss: 0.2034 - val_my_iou_metric: 0.7759\n",
      "\n",
      "Epoch 00102: my_iou_metric did not improve from 0.85517\n",
      "Epoch 103/150\n",
      "6400/6400 [==============================] - 20s 3ms/step - loss: 0.0306 - my_iou_metric: 0.8566 - val_loss: 0.1933 - val_my_iou_metric: 0.7753\n",
      "\n",
      "Epoch 00103: my_iou_metric improved from 0.85517 to 0.85661, saving model to Unet_resnet_v5.model\n",
      "Epoch 104/150\n",
      "6400/6400 [==============================] - 19s 3ms/step - loss: 0.0297 - my_iou_metric: 0.8554 - val_loss: 0.1848 - val_my_iou_metric: 0.7824\n",
      "\n",
      "Epoch 00104: my_iou_metric did not improve from 0.85661\n",
      "Epoch 105/150\n",
      "6400/6400 [==============================] - 19s 3ms/step - loss: 0.0297 - my_iou_metric: 0.8563 - val_loss: 0.1978 - val_my_iou_metric: 0.7841\n",
      "\n",
      "Epoch 00105: my_iou_metric did not improve from 0.85661\n",
      "Epoch 106/150\n",
      "6400/6400 [==============================] - 19s 3ms/step - loss: 0.0292 - my_iou_metric: 0.8595 - val_loss: 0.2012 - val_my_iou_metric: 0.7794\n",
      "\n",
      "Epoch 00106: my_iou_metric improved from 0.85661 to 0.85953, saving model to Unet_resnet_v5.model\n",
      "Epoch 107/150\n",
      "6400/6400 [==============================] - 19s 3ms/step - loss: 0.0291 - my_iou_metric: 0.8560 - val_loss: 0.1981 - val_my_iou_metric: 0.7830\n",
      "\n",
      "Epoch 00107: my_iou_metric did not improve from 0.85953\n",
      "Epoch 108/150\n",
      "6400/6400 [==============================] - 19s 3ms/step - loss: 0.0285 - my_iou_metric: 0.8609 - val_loss: 0.1982 - val_my_iou_metric: 0.7855\n",
      "\n",
      "Epoch 00108: my_iou_metric improved from 0.85953 to 0.86089, saving model to Unet_resnet_v5.model\n",
      "Epoch 109/150\n",
      "6400/6400 [==============================] - 19s 3ms/step - loss: 0.0299 - my_iou_metric: 0.8552 - val_loss: 0.1951 - val_my_iou_metric: 0.7810\n",
      "\n",
      "Epoch 00109: my_iou_metric did not improve from 0.86089\n",
      "Epoch 110/150\n",
      "6400/6400 [==============================] - 19s 3ms/step - loss: 0.0303 - my_iou_metric: 0.8557 - val_loss: 0.1941 - val_my_iou_metric: 0.7864\n",
      "\n",
      "Epoch 00110: my_iou_metric did not improve from 0.86089\n",
      "Epoch 111/150\n",
      "6400/6400 [==============================] - 19s 3ms/step - loss: 0.0288 - my_iou_metric: 0.8612 - val_loss: 0.2128 - val_my_iou_metric: 0.7859\n",
      "\n",
      "Epoch 00111: my_iou_metric improved from 0.86089 to 0.86117, saving model to Unet_resnet_v5.model\n",
      "Epoch 112/150\n",
      "6400/6400 [==============================] - 19s 3ms/step - loss: 0.0291 - my_iou_metric: 0.8575 - val_loss: 0.2083 - val_my_iou_metric: 0.7819\n",
      "\n",
      "Epoch 00112: my_iou_metric did not improve from 0.86117\n",
      "Epoch 113/150\n",
      "6400/6400 [==============================] - 19s 3ms/step - loss: 0.0288 - my_iou_metric: 0.8573 - val_loss: 0.1997 - val_my_iou_metric: 0.7874\n",
      "\n",
      "Epoch 00113: my_iou_metric did not improve from 0.86117\n",
      "Epoch 114/150\n",
      "6400/6400 [==============================] - 19s 3ms/step - loss: 0.0288 - my_iou_metric: 0.8611 - val_loss: 0.2035 - val_my_iou_metric: 0.7794\n",
      "\n",
      "Epoch 00114: my_iou_metric did not improve from 0.86117\n",
      "Epoch 115/150\n",
      "6400/6400 [==============================] - 19s 3ms/step - loss: 0.0289 - my_iou_metric: 0.8576 - val_loss: 0.2055 - val_my_iou_metric: 0.7803\n",
      "\n",
      "Epoch 00115: my_iou_metric did not improve from 0.86117\n",
      "Epoch 116/150\n",
      "6400/6400 [==============================] - 19s 3ms/step - loss: 0.0291 - my_iou_metric: 0.8611 - val_loss: 0.2064 - val_my_iou_metric: 0.7831\n",
      "\n",
      "Epoch 00116: my_iou_metric did not improve from 0.86117\n",
      "\n",
      "Epoch 00116: ReduceLROnPlateau reducing learning rate to 0.0006249999860301614.\n",
      "Epoch 117/150\n",
      "6400/6400 [==============================] - 19s 3ms/step - loss: 0.0283 - my_iou_metric: 0.8617 - val_loss: 0.2072 - val_my_iou_metric: 0.7874\n",
      "\n",
      "Epoch 00117: my_iou_metric improved from 0.86117 to 0.86172, saving model to Unet_resnet_v5.model\n",
      "Epoch 118/150\n",
      "6400/6400 [==============================] - 19s 3ms/step - loss: 0.0278 - my_iou_metric: 0.8618 - val_loss: 0.2101 - val_my_iou_metric: 0.7870\n",
      "\n",
      "Epoch 00118: my_iou_metric improved from 0.86172 to 0.86180, saving model to Unet_resnet_v5.model\n",
      "Epoch 119/150\n",
      "6400/6400 [==============================] - 19s 3ms/step - loss: 0.0273 - my_iou_metric: 0.8626 - val_loss: 0.2143 - val_my_iou_metric: 0.7840\n",
      "\n",
      "Epoch 00119: my_iou_metric improved from 0.86180 to 0.86262, saving model to Unet_resnet_v5.model\n",
      "Epoch 120/150\n",
      "6400/6400 [==============================] - 19s 3ms/step - loss: 0.0273 - my_iou_metric: 0.8617 - val_loss: 0.2112 - val_my_iou_metric: 0.7810\n",
      "\n",
      "Epoch 00120: my_iou_metric did not improve from 0.86262\n",
      "Epoch 121/150\n",
      "6400/6400 [==============================] - 19s 3ms/step - loss: 0.0281 - my_iou_metric: 0.8610 - val_loss: 0.2072 - val_my_iou_metric: 0.7802\n",
      "\n",
      "Epoch 00121: my_iou_metric did not improve from 0.86262\n",
      "Epoch 122/150\n",
      "6400/6400 [==============================] - 19s 3ms/step - loss: 0.0277 - my_iou_metric: 0.8622 - val_loss: 0.1982 - val_my_iou_metric: 0.7840\n",
      "\n",
      "Epoch 00122: my_iou_metric did not improve from 0.86262\n",
      "Epoch 123/150\n",
      "6400/6400 [==============================] - 19s 3ms/step - loss: 0.0277 - my_iou_metric: 0.8615 - val_loss: 0.2026 - val_my_iou_metric: 0.7809\n",
      "\n",
      "Epoch 00123: my_iou_metric did not improve from 0.86262\n",
      "Epoch 124/150\n",
      "6400/6400 [==============================] - 19s 3ms/step - loss: 0.0269 - my_iou_metric: 0.8625 - val_loss: 0.2112 - val_my_iou_metric: 0.7922\n",
      "\n",
      "Epoch 00124: my_iou_metric did not improve from 0.86262\n",
      "\n",
      "Epoch 00124: ReduceLROnPlateau reducing learning rate to 0.0003124999930150807.\n",
      "Epoch 125/150\n",
      "6400/6400 [==============================] - 19s 3ms/step - loss: 0.0271 - my_iou_metric: 0.8645 - val_loss: 0.2145 - val_my_iou_metric: 0.7846\n",
      "\n",
      "Epoch 00125: my_iou_metric improved from 0.86262 to 0.86452, saving model to Unet_resnet_v5.model\n",
      "Epoch 126/150\n",
      "6400/6400 [==============================] - 19s 3ms/step - loss: 0.0269 - my_iou_metric: 0.8654 - val_loss: 0.2157 - val_my_iou_metric: 0.7862\n",
      "\n",
      "Epoch 00126: my_iou_metric improved from 0.86452 to 0.86536, saving model to Unet_resnet_v5.model\n",
      "Epoch 127/150\n",
      "6400/6400 [==============================] - 19s 3ms/step - loss: 0.0270 - my_iou_metric: 0.8646 - val_loss: 0.2166 - val_my_iou_metric: 0.7843\n",
      "\n",
      "Epoch 00127: my_iou_metric did not improve from 0.86536\n",
      "Epoch 128/150\n",
      "6400/6400 [==============================] - 19s 3ms/step - loss: 0.0264 - my_iou_metric: 0.8638 - val_loss: 0.2172 - val_my_iou_metric: 0.7856\n",
      "\n",
      "Epoch 00128: my_iou_metric did not improve from 0.86536\n",
      "Epoch 129/150\n",
      "6400/6400 [==============================] - 19s 3ms/step - loss: 0.0269 - my_iou_metric: 0.8646 - val_loss: 0.2123 - val_my_iou_metric: 0.7863\n",
      "\n",
      "Epoch 00129: my_iou_metric did not improve from 0.86536\n",
      "Epoch 130/150\n",
      "6400/6400 [==============================] - 19s 3ms/step - loss: 0.0266 - my_iou_metric: 0.8643 - val_loss: 0.2124 - val_my_iou_metric: 0.7842\n",
      "\n",
      "Epoch 00130: my_iou_metric did not improve from 0.86536\n",
      "Epoch 131/150\n",
      "6400/6400 [==============================] - 19s 3ms/step - loss: 0.0261 - my_iou_metric: 0.8683 - val_loss: 0.2122 - val_my_iou_metric: 0.7837\n",
      "\n",
      "Epoch 00131: my_iou_metric improved from 0.86536 to 0.86831, saving model to Unet_resnet_v5.model\n",
      "Epoch 132/150\n",
      "6400/6400 [==============================] - 19s 3ms/step - loss: 0.0271 - my_iou_metric: 0.8630 - val_loss: 0.2079 - val_my_iou_metric: 0.7795\n",
      "\n",
      "Epoch 00132: my_iou_metric did not improve from 0.86831\n",
      "Epoch 133/150\n",
      "6400/6400 [==============================] - 19s 3ms/step - loss: 0.0265 - my_iou_metric: 0.8632 - val_loss: 0.2087 - val_my_iou_metric: 0.7803\n",
      "\n",
      "Epoch 00133: my_iou_metric did not improve from 0.86831\n",
      "Epoch 134/150\n",
      "6400/6400 [==============================] - 19s 3ms/step - loss: 0.0264 - my_iou_metric: 0.8644 - val_loss: 0.2083 - val_my_iou_metric: 0.7819\n",
      "\n",
      "Epoch 00134: my_iou_metric did not improve from 0.86831\n",
      "Epoch 135/150\n",
      "6400/6400 [==============================] - 19s 3ms/step - loss: 0.0263 - my_iou_metric: 0.8664 - val_loss: 0.2103 - val_my_iou_metric: 0.7795\n",
      "\n",
      "Epoch 00135: my_iou_metric did not improve from 0.86831\n",
      "Epoch 136/150\n",
      "6400/6400 [==============================] - 19s 3ms/step - loss: 0.0264 - my_iou_metric: 0.8674 - val_loss: 0.2164 - val_my_iou_metric: 0.7812\n",
      "\n",
      "Epoch 00136: my_iou_metric did not improve from 0.86831\n",
      "\n",
      "Epoch 00136: ReduceLROnPlateau reducing learning rate to 0.00015624999650754035.\n",
      "Epoch 137/150\n",
      "6400/6400 [==============================] - 19s 3ms/step - loss: 0.0270 - my_iou_metric: 0.8623 - val_loss: 0.2136 - val_my_iou_metric: 0.7810\n",
      "\n",
      "Epoch 00137: my_iou_metric did not improve from 0.86831\n",
      "Epoch 138/150\n",
      "6400/6400 [==============================] - 19s 3ms/step - loss: 0.0263 - my_iou_metric: 0.8652 - val_loss: 0.2124 - val_my_iou_metric: 0.7808\n",
      "\n",
      "Epoch 00138: my_iou_metric did not improve from 0.86831\n",
      "Epoch 139/150\n"
     ]
    },
    {
     "name": "stdout",
     "output_type": "stream",
     "text": [
      "6400/6400 [==============================] - 19s 3ms/step - loss: 0.0263 - my_iou_metric: 0.8651 - val_loss: 0.2124 - val_my_iou_metric: 0.7835\n",
      "\n",
      "Epoch 00139: my_iou_metric did not improve from 0.86831\n",
      "Epoch 140/150\n",
      "6400/6400 [==============================] - 19s 3ms/step - loss: 0.0257 - my_iou_metric: 0.8695 - val_loss: 0.2138 - val_my_iou_metric: 0.7821\n",
      "\n",
      "Epoch 00140: my_iou_metric improved from 0.86831 to 0.86945, saving model to Unet_resnet_v5.model\n",
      "Epoch 141/150\n",
      "6400/6400 [==============================] - 19s 3ms/step - loss: 0.0263 - my_iou_metric: 0.8647 - val_loss: 0.2146 - val_my_iou_metric: 0.7834\n",
      "\n",
      "Epoch 00141: my_iou_metric did not improve from 0.86945\n",
      "Epoch 142/150\n",
      "6400/6400 [==============================] - 19s 3ms/step - loss: 0.0262 - my_iou_metric: 0.8650 - val_loss: 0.2136 - val_my_iou_metric: 0.7827\n",
      "\n",
      "Epoch 00142: my_iou_metric did not improve from 0.86945\n",
      "Epoch 143/150\n",
      "6400/6400 [==============================] - 19s 3ms/step - loss: 0.0264 - my_iou_metric: 0.8640 - val_loss: 0.2126 - val_my_iou_metric: 0.7801\n",
      "\n",
      "Epoch 00143: my_iou_metric did not improve from 0.86945\n",
      "Epoch 144/150\n",
      "6400/6400 [==============================] - 19s 3ms/step - loss: 0.0258 - my_iou_metric: 0.8665 - val_loss: 0.2110 - val_my_iou_metric: 0.7834\n",
      "\n",
      "Epoch 00144: my_iou_metric did not improve from 0.86945\n",
      "Epoch 145/150\n",
      "6400/6400 [==============================] - 19s 3ms/step - loss: 0.0256 - my_iou_metric: 0.8663 - val_loss: 0.2153 - val_my_iou_metric: 0.7847\n",
      "\n",
      "Epoch 00145: my_iou_metric did not improve from 0.86945\n",
      "\n",
      "Epoch 00145: ReduceLROnPlateau reducing learning rate to 0.0001.\n",
      "Epoch 146/150\n",
      "6400/6400 [==============================] - 19s 3ms/step - loss: 0.0256 - my_iou_metric: 0.8675 - val_loss: 0.2141 - val_my_iou_metric: 0.7843\n",
      "\n",
      "Epoch 00146: my_iou_metric did not improve from 0.86945\n",
      "Epoch 147/150\n",
      "6400/6400 [==============================] - 19s 3ms/step - loss: 0.0256 - my_iou_metric: 0.8655 - val_loss: 0.2143 - val_my_iou_metric: 0.7836\n",
      "\n",
      "Epoch 00147: my_iou_metric did not improve from 0.86945\n",
      "Epoch 148/150\n",
      "6400/6400 [==============================] - 19s 3ms/step - loss: 0.0259 - my_iou_metric: 0.8631 - val_loss: 0.2150 - val_my_iou_metric: 0.7830\n",
      "\n",
      "Epoch 00148: my_iou_metric did not improve from 0.86945\n",
      "Epoch 149/150\n",
      "6400/6400 [==============================] - 19s 3ms/step - loss: 0.0263 - my_iou_metric: 0.8670 - val_loss: 0.2133 - val_my_iou_metric: 0.7822\n",
      "\n",
      "Epoch 00149: my_iou_metric did not improve from 0.86945\n",
      "Epoch 150/150\n",
      "6400/6400 [==============================] - 19s 3ms/step - loss: 0.0257 - my_iou_metric: 0.8654 - val_loss: 0.2141 - val_my_iou_metric: 0.7831\n",
      "\n",
      "Epoch 00150: my_iou_metric did not improve from 0.86945\n"
     ]
    }
   ],
   "source": [
    "#early_stopping = EarlyStopping(monitor='my_iou_metric', mode = 'max',patience=10, verbose=1)\n",
    "model_checkpoint = ModelCheckpoint(save_model_name,monitor='my_iou_metric', \n",
    "                                   mode = 'max', save_best_only=True, verbose=1)\n",
    "reduce_lr = ReduceLROnPlateau(monitor='my_iou_metric', mode = 'max',factor=0.5, patience=5, min_lr=0.0001, verbose=1)\n",
    "\n",
    "epochs = 150\n",
    "batch_size = 32\n",
    "history = model1.fit(x_train, y_train,\n",
    "                    validation_data=[x_valid, y_valid], \n",
    "                    epochs=epochs,\n",
    "                    batch_size=batch_size,\n",
    "                    callbacks=[ model_checkpoint,reduce_lr], \n",
    "                    verbose=1)"
   ]
  },
  {
   "cell_type": "code",
   "execution_count": 18,
   "metadata": {
    "_uuid": "513a3f8490ae5cbc61651458750ba369f99f6f62",
    "scrolled": true
   },
   "outputs": [],
   "source": [
    "model1 = load_model(save_model_name,custom_objects={'my_iou_metric': my_iou_metric})\n",
    "# remove layter activation layer and use losvasz loss\n",
    "input_x = model1.layers[0].input\n",
    "\n",
    "output_layer = model1.layers[-1].input\n",
    "model = Model(input_x, output_layer)\n",
    "c = optimizers.adam(lr = 0.01)\n",
    "\n",
    "# lovasz_loss need input range (-∞，+∞), so cancel the last \"sigmoid\" activation  \n",
    "# Then the default threshod for pixel prediction is 0 instead of 0.5, as in my_iou_metric_2.\n",
    "model.compile(loss=lovasz_loss, optimizer=c, metrics=[my_iou_metric_2])\n",
    "\n",
    "#model.summary()"
   ]
  },
  {
   "cell_type": "code",
   "execution_count": 19,
   "metadata": {
    "_uuid": "bc68a1d9f9ec3837a2988bd7fe05d1fffdbc381d"
   },
   "outputs": [
    {
     "name": "stdout",
     "output_type": "stream",
     "text": [
      "Train on 6400 samples, validate on 800 samples\n",
      "Epoch 1/400\n",
      "6400/6400 [==============================] - 73s 11ms/step - loss: 0.3251 - my_iou_metric_2: 0.8379 - val_loss: 0.5290 - val_my_iou_metric_2: 0.7884\n",
      "\n",
      "Epoch 00001: val_my_iou_metric_2 improved from -inf to 0.78838, saving model to Unet_resnet_v5.model\n",
      "Epoch 2/400\n",
      "6400/6400 [==============================] - 62s 10ms/step - loss: 0.2839 - my_iou_metric_2: 0.8402 - val_loss: 0.4980 - val_my_iou_metric_2: 0.7724\n",
      "\n",
      "Epoch 00002: val_my_iou_metric_2 did not improve from 0.78838\n",
      "Epoch 3/400\n",
      "6400/6400 [==============================] - 62s 10ms/step - loss: 0.2933 - my_iou_metric_2: 0.8335 - val_loss: 0.4628 - val_my_iou_metric_2: 0.7762\n",
      "\n",
      "Epoch 00003: val_my_iou_metric_2 did not improve from 0.78838\n",
      "Epoch 4/400\n",
      "6400/6400 [==============================] - 61s 10ms/step - loss: 0.2921 - my_iou_metric_2: 0.8300 - val_loss: 0.4468 - val_my_iou_metric_2: 0.7711\n",
      "\n",
      "Epoch 00004: val_my_iou_metric_2 did not improve from 0.78838\n",
      "Epoch 5/400\n",
      "6400/6400 [==============================] - 63s 10ms/step - loss: 0.2828 - my_iou_metric_2: 0.8360 - val_loss: 0.4371 - val_my_iou_metric_2: 0.7812\n",
      "\n",
      "Epoch 00005: val_my_iou_metric_2 did not improve from 0.78838\n",
      "Epoch 6/400\n",
      "6400/6400 [==============================] - 62s 10ms/step - loss: 0.2878 - my_iou_metric_2: 0.8294 - val_loss: 0.4609 - val_my_iou_metric_2: 0.7535\n",
      "\n",
      "Epoch 00006: val_my_iou_metric_2 did not improve from 0.78838\n",
      "\n",
      "Epoch 00006: ReduceLROnPlateau reducing learning rate to 0.004999999888241291.\n",
      "Epoch 7/400\n",
      "6400/6400 [==============================] - 62s 10ms/step - loss: 0.2563 - my_iou_metric_2: 0.8475 - val_loss: 0.3923 - val_my_iou_metric_2: 0.7849\n",
      "\n",
      "Epoch 00007: val_my_iou_metric_2 did not improve from 0.78838\n",
      "Epoch 8/400\n",
      "6400/6400 [==============================] - 62s 10ms/step - loss: 0.2449 - my_iou_metric_2: 0.8523 - val_loss: 0.4036 - val_my_iou_metric_2: 0.7810\n",
      "\n",
      "Epoch 00008: val_my_iou_metric_2 did not improve from 0.78838\n",
      "Epoch 9/400\n",
      "6400/6400 [==============================] - 62s 10ms/step - loss: 0.2387 - my_iou_metric_2: 0.8546 - val_loss: 0.3741 - val_my_iou_metric_2: 0.7921\n",
      "\n",
      "Epoch 00009: val_my_iou_metric_2 improved from 0.78838 to 0.79213, saving model to Unet_resnet_v5.model\n",
      "Epoch 10/400\n",
      "6400/6400 [==============================] - 62s 10ms/step - loss: 0.2428 - my_iou_metric_2: 0.8519 - val_loss: 0.3914 - val_my_iou_metric_2: 0.7856\n",
      "\n",
      "Epoch 00010: val_my_iou_metric_2 did not improve from 0.79213\n",
      "Epoch 11/400\n",
      "6400/6400 [==============================] - 62s 10ms/step - loss: 0.2427 - my_iou_metric_2: 0.8513 - val_loss: 0.3902 - val_my_iou_metric_2: 0.7858\n",
      "\n",
      "Epoch 00011: val_my_iou_metric_2 did not improve from 0.79213\n",
      "Epoch 12/400\n",
      "6400/6400 [==============================] - 62s 10ms/step - loss: 0.2440 - my_iou_metric_2: 0.8514 - val_loss: 0.3734 - val_my_iou_metric_2: 0.7926\n",
      "\n",
      "Epoch 00012: val_my_iou_metric_2 improved from 0.79213 to 0.79262, saving model to Unet_resnet_v5.model\n",
      "Epoch 13/400\n",
      "6400/6400 [==============================] - 62s 10ms/step - loss: 0.2390 - my_iou_metric_2: 0.8537 - val_loss: 0.3712 - val_my_iou_metric_2: 0.7993\n",
      "\n",
      "Epoch 00013: val_my_iou_metric_2 improved from 0.79262 to 0.79925, saving model to Unet_resnet_v5.model\n",
      "Epoch 14/400\n",
      "6400/6400 [==============================] - 63s 10ms/step - loss: 0.2442 - my_iou_metric_2: 0.8516 - val_loss: 0.3944 - val_my_iou_metric_2: 0.7837\n",
      "\n",
      "Epoch 00014: val_my_iou_metric_2 did not improve from 0.79925\n",
      "Epoch 15/400\n",
      "6400/6400 [==============================] - 62s 10ms/step - loss: 0.2474 - my_iou_metric_2: 0.8496 - val_loss: 0.3880 - val_my_iou_metric_2: 0.7867\n",
      "\n",
      "Epoch 00015: val_my_iou_metric_2 did not improve from 0.79925\n",
      "Epoch 16/400\n",
      "6400/6400 [==============================] - 62s 10ms/step - loss: 0.2357 - my_iou_metric_2: 0.8546 - val_loss: 0.3710 - val_my_iou_metric_2: 0.7924\n",
      "\n",
      "Epoch 00016: val_my_iou_metric_2 did not improve from 0.79925\n",
      "Epoch 17/400\n",
      "6400/6400 [==============================] - 61s 10ms/step - loss: 0.2317 - my_iou_metric_2: 0.8560 - val_loss: 0.3820 - val_my_iou_metric_2: 0.7867\n",
      "\n",
      "Epoch 00017: val_my_iou_metric_2 did not improve from 0.79925\n",
      "Epoch 18/400\n",
      "6400/6400 [==============================] - 62s 10ms/step - loss: 0.2321 - my_iou_metric_2: 0.8571 - val_loss: 0.3886 - val_my_iou_metric_2: 0.7851\n",
      "\n",
      "Epoch 00018: val_my_iou_metric_2 did not improve from 0.79925\n",
      "\n",
      "Epoch 00018: ReduceLROnPlateau reducing learning rate to 0.0024999999441206455.\n",
      "Epoch 19/400\n",
      "6400/6400 [==============================] - 62s 10ms/step - loss: 0.2169 - my_iou_metric_2: 0.8633 - val_loss: 0.3528 - val_my_iou_metric_2: 0.8008\n",
      "\n",
      "Epoch 00019: val_my_iou_metric_2 improved from 0.79925 to 0.80075, saving model to Unet_resnet_v5.model\n",
      "Epoch 20/400\n",
      "6400/6400 [==============================] - 62s 10ms/step - loss: 0.2116 - my_iou_metric_2: 0.8668 - val_loss: 0.3671 - val_my_iou_metric_2: 0.7960\n",
      "\n",
      "Epoch 00020: val_my_iou_metric_2 did not improve from 0.80075\n",
      "Epoch 21/400\n",
      "6400/6400 [==============================] - 62s 10ms/step - loss: 0.2126 - my_iou_metric_2: 0.8674 - val_loss: 0.3758 - val_my_iou_metric_2: 0.7911\n",
      "\n",
      "Epoch 00021: val_my_iou_metric_2 did not improve from 0.80075\n",
      "Epoch 22/400\n",
      "6400/6400 [==============================] - 61s 10ms/step - loss: 0.2082 - my_iou_metric_2: 0.8689 - val_loss: 0.3588 - val_my_iou_metric_2: 0.8003\n",
      "\n",
      "Epoch 00022: val_my_iou_metric_2 did not improve from 0.80075\n",
      "Epoch 23/400\n",
      "6400/6400 [==============================] - 62s 10ms/step - loss: 0.2089 - my_iou_metric_2: 0.8682 - val_loss: 0.3815 - val_my_iou_metric_2: 0.7886\n",
      "\n",
      "Epoch 00023: val_my_iou_metric_2 did not improve from 0.80075\n",
      "Epoch 24/400\n",
      "6400/6400 [==============================] - 62s 10ms/step - loss: 0.2077 - my_iou_metric_2: 0.8705 - val_loss: 0.3640 - val_my_iou_metric_2: 0.7945\n",
      "\n",
      "Epoch 00024: val_my_iou_metric_2 did not improve from 0.80075\n",
      "\n",
      "Epoch 00024: ReduceLROnPlateau reducing learning rate to 0.0012499999720603228.\n",
      "Epoch 25/400\n",
      "6400/6400 [==============================] - 62s 10ms/step - loss: 0.2035 - my_iou_metric_2: 0.8707 - val_loss: 0.3586 - val_my_iou_metric_2: 0.7975\n",
      "\n",
      "Epoch 00025: val_my_iou_metric_2 did not improve from 0.80075\n",
      "Epoch 26/400\n",
      "6400/6400 [==============================] - 62s 10ms/step - loss: 0.1995 - my_iou_metric_2: 0.8743 - val_loss: 0.3636 - val_my_iou_metric_2: 0.7949\n",
      "\n",
      "Epoch 00026: val_my_iou_metric_2 did not improve from 0.80075\n",
      "Epoch 27/400\n",
      "6400/6400 [==============================] - 62s 10ms/step - loss: 0.1983 - my_iou_metric_2: 0.8753 - val_loss: 0.3520 - val_my_iou_metric_2: 0.8035\n",
      "\n",
      "Epoch 00027: val_my_iou_metric_2 improved from 0.80075 to 0.80350, saving model to Unet_resnet_v5.model\n",
      "Epoch 28/400\n",
      "6400/6400 [==============================] - 62s 10ms/step - loss: 0.1958 - my_iou_metric_2: 0.8765 - val_loss: 0.3683 - val_my_iou_metric_2: 0.7967\n",
      "\n",
      "Epoch 00028: val_my_iou_metric_2 did not improve from 0.80350\n",
      "Epoch 29/400\n",
      "6400/6400 [==============================] - 63s 10ms/step - loss: 0.1929 - my_iou_metric_2: 0.8780 - val_loss: 0.3650 - val_my_iou_metric_2: 0.7962\n",
      "\n",
      "Epoch 00029: val_my_iou_metric_2 did not improve from 0.80350\n",
      "Epoch 30/400\n",
      "6400/6400 [==============================] - 62s 10ms/step - loss: 0.1940 - my_iou_metric_2: 0.8774 - val_loss: 0.3547 - val_my_iou_metric_2: 0.8009\n",
      "\n",
      "Epoch 00030: val_my_iou_metric_2 did not improve from 0.80350\n",
      "Epoch 31/400\n",
      "6400/6400 [==============================] - 62s 10ms/step - loss: 0.1904 - my_iou_metric_2: 0.8793 - val_loss: 0.3720 - val_my_iou_metric_2: 0.7899\n",
      "\n",
      "Epoch 00031: val_my_iou_metric_2 did not improve from 0.80350\n",
      "Epoch 32/400\n",
      "6400/6400 [==============================] - 62s 10ms/step - loss: 0.1923 - my_iou_metric_2: 0.8790 - val_loss: 0.3728 - val_my_iou_metric_2: 0.7922\n",
      "\n",
      "Epoch 00032: val_my_iou_metric_2 did not improve from 0.80350\n",
      "\n",
      "Epoch 00032: ReduceLROnPlateau reducing learning rate to 0.0006249999860301614.\n",
      "Epoch 33/400\n",
      "6400/6400 [==============================] - 62s 10ms/step - loss: 0.1890 - my_iou_metric_2: 0.8808 - val_loss: 0.3710 - val_my_iou_metric_2: 0.7902\n",
      "\n",
      "Epoch 00033: val_my_iou_metric_2 did not improve from 0.80350\n",
      "Epoch 34/400\n",
      "6400/6400 [==============================] - 62s 10ms/step - loss: 0.1883 - my_iou_metric_2: 0.8816 - val_loss: 0.3667 - val_my_iou_metric_2: 0.7926\n"
     ]
    },
    {
     "name": "stdout",
     "output_type": "stream",
     "text": [
      "\n",
      "Epoch 00034: val_my_iou_metric_2 did not improve from 0.80350\n",
      "Epoch 35/400\n",
      "6400/6400 [==============================] - 62s 10ms/step - loss: 0.1895 - my_iou_metric_2: 0.8795 - val_loss: 0.3597 - val_my_iou_metric_2: 0.7951\n",
      "\n",
      "Epoch 00035: val_my_iou_metric_2 did not improve from 0.80350\n",
      "Epoch 36/400\n",
      "6400/6400 [==============================] - 62s 10ms/step - loss: 0.1846 - my_iou_metric_2: 0.8824 - val_loss: 0.3624 - val_my_iou_metric_2: 0.7972\n",
      "\n",
      "Epoch 00036: val_my_iou_metric_2 did not improve from 0.80350\n",
      "Epoch 37/400\n",
      "6400/6400 [==============================] - 62s 10ms/step - loss: 0.1850 - my_iou_metric_2: 0.8824 - val_loss: 0.3619 - val_my_iou_metric_2: 0.7979\n",
      "\n",
      "Epoch 00037: val_my_iou_metric_2 did not improve from 0.80350\n",
      "\n",
      "Epoch 00037: ReduceLROnPlateau reducing learning rate to 0.0003124999930150807.\n",
      "Epoch 38/400\n",
      "6400/6400 [==============================] - 62s 10ms/step - loss: 0.1837 - my_iou_metric_2: 0.8831 - val_loss: 0.3686 - val_my_iou_metric_2: 0.7932\n",
      "\n",
      "Epoch 00038: val_my_iou_metric_2 did not improve from 0.80350\n",
      "Epoch 39/400\n",
      "6400/6400 [==============================] - 63s 10ms/step - loss: 0.1826 - my_iou_metric_2: 0.8834 - val_loss: 0.3696 - val_my_iou_metric_2: 0.7942\n",
      "\n",
      "Epoch 00039: val_my_iou_metric_2 did not improve from 0.80350\n",
      "Epoch 40/400\n",
      "6400/6400 [==============================] - 61s 10ms/step - loss: 0.1866 - my_iou_metric_2: 0.8821 - val_loss: 0.3603 - val_my_iou_metric_2: 0.7985\n",
      "\n",
      "Epoch 00040: val_my_iou_metric_2 did not improve from 0.80350\n",
      "Epoch 41/400\n",
      "6400/6400 [==============================] - 62s 10ms/step - loss: 0.1812 - my_iou_metric_2: 0.8851 - val_loss: 0.3598 - val_my_iou_metric_2: 0.7981\n",
      "\n",
      "Epoch 00041: val_my_iou_metric_2 did not improve from 0.80350\n",
      "Epoch 42/400\n",
      "6400/6400 [==============================] - 61s 10ms/step - loss: 0.1802 - my_iou_metric_2: 0.8849 - val_loss: 0.3597 - val_my_iou_metric_2: 0.7983\n",
      "\n",
      "Epoch 00042: val_my_iou_metric_2 did not improve from 0.80350\n",
      "\n",
      "Epoch 00042: ReduceLROnPlateau reducing learning rate to 0.00015624999650754035.\n",
      "Epoch 43/400\n",
      "6400/6400 [==============================] - 62s 10ms/step - loss: 0.1804 - my_iou_metric_2: 0.8852 - val_loss: 0.3579 - val_my_iou_metric_2: 0.7986\n",
      "\n",
      "Epoch 00043: val_my_iou_metric_2 did not improve from 0.80350\n",
      "Epoch 44/400\n",
      "6400/6400 [==============================] - 62s 10ms/step - loss: 0.1803 - my_iou_metric_2: 0.8849 - val_loss: 0.3590 - val_my_iou_metric_2: 0.7986\n",
      "\n",
      "Epoch 00044: val_my_iou_metric_2 did not improve from 0.80350\n",
      "Epoch 45/400\n",
      "6400/6400 [==============================] - 62s 10ms/step - loss: 0.1799 - my_iou_metric_2: 0.8852 - val_loss: 0.3643 - val_my_iou_metric_2: 0.7975\n",
      "\n",
      "Epoch 00045: val_my_iou_metric_2 did not improve from 0.80350\n",
      "Epoch 46/400\n",
      "6400/6400 [==============================] - 61s 10ms/step - loss: 0.1806 - my_iou_metric_2: 0.8851 - val_loss: 0.3624 - val_my_iou_metric_2: 0.7985\n",
      "\n",
      "Epoch 00046: val_my_iou_metric_2 did not improve from 0.80350\n",
      "Epoch 47/400\n",
      "6400/6400 [==============================] - 62s 10ms/step - loss: 0.1803 - my_iou_metric_2: 0.8851 - val_loss: 0.3622 - val_my_iou_metric_2: 0.7976\n",
      "\n",
      "Epoch 00047: val_my_iou_metric_2 did not improve from 0.80350\n",
      "\n",
      "Epoch 00047: ReduceLROnPlateau reducing learning rate to 0.0001.\n",
      "Epoch 00047: early stopping\n"
     ]
    }
   ],
   "source": [
    "early_stopping = EarlyStopping(monitor='val_my_iou_metric_2', mode = 'max',patience=20, verbose=1)\n",
    "model_checkpoint = ModelCheckpoint(save_model_name,monitor='val_my_iou_metric_2', \n",
    "                                   mode = 'max', save_best_only=True, verbose=1)\n",
    "reduce_lr = ReduceLROnPlateau(monitor='val_my_iou_metric_2', mode = 'max',factor=0.5, patience=5, min_lr=0.0001, verbose=1)\n",
    "epochs = 400\n",
    "batch_size = 32\n",
    "\n",
    "history = model.fit(x_train, y_train,\n",
    "                    validation_data=[x_valid, y_valid], \n",
    "                    epochs=epochs,\n",
    "                    batch_size=batch_size,\n",
    "                    callbacks=[ model_checkpoint,reduce_lr,early_stopping], \n",
    "                    verbose=1)"
   ]
  },
  {
   "cell_type": "code",
   "execution_count": 20,
   "metadata": {
    "_uuid": "347c6567c95430f28ec51b94f42603e37a4056db"
   },
   "outputs": [
    {
     "data": {
      "text/plain": [
       "<matplotlib.legend.Legend at 0x7f3d6b220e48>"
      ]
     },
     "execution_count": 20,
     "metadata": {},
     "output_type": "execute_result"
    },
    {
     "data": {
      "image/png": "[encoded data removed]",
      "text/plain": [
       "<Figure size 1080x360 with 2 Axes>"
      ]
     },
     "metadata": {},
     "output_type": "display_data"
    }
   ],
   "source": [
    "fig, (ax_loss, ax_score) = plt.subplots(1, 2, figsize=(15,5))\n",
    "ax_loss.plot(history.epoch, history.history[\"loss\"], label=\"Train loss\")\n",
    "ax_loss.plot(history.epoch, history.history[\"val_loss\"], label=\"Validation loss\")\n",
    "ax_loss.legend()\n",
    "ax_score.plot(history.epoch, history.history[\"my_iou_metric_2\"], label=\"Train score\")\n",
    "ax_score.plot(history.epoch, history.history[\"val_my_iou_metric_2\"], label=\"Validation score\")\n",
    "ax_score.legend()"
   ]
  },
  {
   "cell_type": "code",
   "execution_count": 6,
   "metadata": {
    "_uuid": "a081f8f61a713457c8c8f3979a78f75541875456"
   },
   "outputs": [],
   "source": [
    "save_model_name = 'best_resnet_34.model'\n",
    "\n",
    "model = load_model(save_model_name,custom_objects={'my_iou_metric_2': my_iou_metric_2,\n",
    "                                                   'lovasz_loss': lovasz_loss})\n",
    "\n"
   ]
  },
  {
   "cell_type": "code",
   "execution_count": 7,
   "metadata": {
    "_uuid": "f68651e1ce6ad9a461c8f1a25a1250fd489adfed"
   },
   "outputs": [],
   "source": [
    "def predict_result(model,x_test,img_size_target): # predict both orginal and reflect x\n",
    "    x_test_reflect =  np.array([np.fliplr(x) for x in x_test])\n",
    "    preds_test = model.predict(x_test).reshape(-1, img_size_target, img_size_target)\n",
    "    preds_test2_refect = model.predict(x_test_reflect).reshape(-1, img_size_target, img_size_target)\n",
    "    preds_test += np.array([ np.fliplr(x) for x in preds_test2_refect] )\n",
    "    return preds_test/2"
   ]
  },
  {
   "cell_type": "code",
   "execution_count": 20,
   "metadata": {
    "_uuid": "b7a061700364ea17735f953d6bd3c835bc3dc630"
   },
   "outputs": [
    {
     "ename": "ValueError",
     "evalue": "Error when checking input: expected input_1 to have shape (101, 101, 3) but got array with shape (101, 101, 1)",
     "output_type": "error",
     "traceback": [
      "\u001b[0;31m---------------------------------------------------------------------------\u001b[0m",
      "\u001b[0;31mValueError\u001b[0m                                Traceback (most recent call last)",
      "\u001b[0;32m<ipython-input-20-bf09d37f3648>\u001b[0m in \u001b[0;36m<module>\u001b[0;34m()\u001b[0m\n\u001b[0;32m----> 1\u001b[0;31m \u001b[0mpreds_valid\u001b[0m \u001b[0;34m=\u001b[0m \u001b[0mpredict_result\u001b[0m\u001b[0;34m(\u001b[0m\u001b[0mmodel\u001b[0m\u001b[0;34m,\u001b[0m\u001b[0mx_valid\u001b[0m\u001b[0;34m,\u001b[0m\u001b[0mimg_size_target\u001b[0m\u001b[0;34m)\u001b[0m\u001b[0;34m\u001b[0m\u001b[0m\n\u001b[0m",
      "\u001b[0;32m<ipython-input-7-34ec2450edd6>\u001b[0m in \u001b[0;36mpredict_result\u001b[0;34m(model, x_test, img_size_target)\u001b[0m\n\u001b[1;32m      1\u001b[0m \u001b[0;32mdef\u001b[0m \u001b[0mpredict_result\u001b[0m\u001b[0;34m(\u001b[0m\u001b[0mmodel\u001b[0m\u001b[0;34m,\u001b[0m\u001b[0mx_test\u001b[0m\u001b[0;34m,\u001b[0m\u001b[0mimg_size_target\u001b[0m\u001b[0;34m)\u001b[0m\u001b[0;34m:\u001b[0m \u001b[0;31m# predict both orginal and reflect x\u001b[0m\u001b[0;34m\u001b[0m\u001b[0m\n\u001b[1;32m      2\u001b[0m     \u001b[0mx_test_reflect\u001b[0m \u001b[0;34m=\u001b[0m  \u001b[0mnp\u001b[0m\u001b[0;34m.\u001b[0m\u001b[0marray\u001b[0m\u001b[0;34m(\u001b[0m\u001b[0;34m[\u001b[0m\u001b[0mnp\u001b[0m\u001b[0;34m.\u001b[0m\u001b[0mfliplr\u001b[0m\u001b[0;34m(\u001b[0m\u001b[0mx\u001b[0m\u001b[0;34m)\u001b[0m \u001b[0;32mfor\u001b[0m \u001b[0mx\u001b[0m \u001b[0;32min\u001b[0m \u001b[0mx_test\u001b[0m\u001b[0;34m]\u001b[0m\u001b[0;34m)\u001b[0m\u001b[0;34m\u001b[0m\u001b[0m\n\u001b[0;32m----> 3\u001b[0;31m     \u001b[0mpreds_test\u001b[0m \u001b[0;34m=\u001b[0m \u001b[0mmodel\u001b[0m\u001b[0;34m.\u001b[0m\u001b[0mpredict\u001b[0m\u001b[0;34m(\u001b[0m\u001b[0mx_test\u001b[0m\u001b[0;34m)\u001b[0m\u001b[0;34m.\u001b[0m\u001b[0mreshape\u001b[0m\u001b[0;34m(\u001b[0m\u001b[0;34m-\u001b[0m\u001b[0;36m1\u001b[0m\u001b[0;34m,\u001b[0m \u001b[0mimg_size_target\u001b[0m\u001b[0;34m,\u001b[0m \u001b[0mimg_size_target\u001b[0m\u001b[0;34m)\u001b[0m\u001b[0;34m\u001b[0m\u001b[0m\n\u001b[0m\u001b[1;32m      4\u001b[0m     \u001b[0mpreds_test2_refect\u001b[0m \u001b[0;34m=\u001b[0m \u001b[0mmodel\u001b[0m\u001b[0;34m.\u001b[0m\u001b[0mpredict\u001b[0m\u001b[0;34m(\u001b[0m\u001b[0mx_test_reflect\u001b[0m\u001b[0;34m)\u001b[0m\u001b[0;34m.\u001b[0m\u001b[0mreshape\u001b[0m\u001b[0;34m(\u001b[0m\u001b[0;34m-\u001b[0m\u001b[0;36m1\u001b[0m\u001b[0;34m,\u001b[0m \u001b[0mimg_size_target\u001b[0m\u001b[0;34m,\u001b[0m \u001b[0mimg_size_target\u001b[0m\u001b[0;34m)\u001b[0m\u001b[0;34m\u001b[0m\u001b[0m\n\u001b[1;32m      5\u001b[0m     \u001b[0mpreds_test\u001b[0m \u001b[0;34m+=\u001b[0m \u001b[0mnp\u001b[0m\u001b[0;34m.\u001b[0m\u001b[0marray\u001b[0m\u001b[0;34m(\u001b[0m\u001b[0;34m[\u001b[0m \u001b[0mnp\u001b[0m\u001b[0;34m.\u001b[0m\u001b[0mfliplr\u001b[0m\u001b[0;34m(\u001b[0m\u001b[0mx\u001b[0m\u001b[0;34m)\u001b[0m \u001b[0;32mfor\u001b[0m \u001b[0mx\u001b[0m \u001b[0;32min\u001b[0m \u001b[0mpreds_test2_refect\u001b[0m\u001b[0;34m]\u001b[0m \u001b[0;34m)\u001b[0m\u001b[0;34m\u001b[0m\u001b[0m\n",
      "\u001b[0;32m~/anaconda3/envs/exp/lib/python3.6/site-packages/keras/engine/training.py\u001b[0m in \u001b[0;36mpredict\u001b[0;34m(self, x, batch_size, verbose, steps)\u001b[0m\n\u001b[1;32m   1150\u001b[0m                              'argument.')\n\u001b[1;32m   1151\u001b[0m         \u001b[0;31m# Validate user data.\u001b[0m\u001b[0;34m\u001b[0m\u001b[0;34m\u001b[0m\u001b[0m\n\u001b[0;32m-> 1152\u001b[0;31m         \u001b[0mx\u001b[0m\u001b[0;34m,\u001b[0m \u001b[0m_\u001b[0m\u001b[0;34m,\u001b[0m \u001b[0m_\u001b[0m \u001b[0;34m=\u001b[0m \u001b[0mself\u001b[0m\u001b[0;34m.\u001b[0m\u001b[0m_standardize_user_data\u001b[0m\u001b[0;34m(\u001b[0m\u001b[0mx\u001b[0m\u001b[0;34m)\u001b[0m\u001b[0;34m\u001b[0m\u001b[0m\n\u001b[0m\u001b[1;32m   1153\u001b[0m         \u001b[0;32mif\u001b[0m \u001b[0mself\u001b[0m\u001b[0;34m.\u001b[0m\u001b[0mstateful\u001b[0m\u001b[0;34m:\u001b[0m\u001b[0;34m\u001b[0m\u001b[0m\n\u001b[1;32m   1154\u001b[0m             \u001b[0;32mif\u001b[0m \u001b[0mx\u001b[0m\u001b[0;34m[\u001b[0m\u001b[0;36m0\u001b[0m\u001b[0;34m]\u001b[0m\u001b[0;34m.\u001b[0m\u001b[0mshape\u001b[0m\u001b[0;34m[\u001b[0m\u001b[0;36m0\u001b[0m\u001b[0;34m]\u001b[0m \u001b[0;34m>\u001b[0m \u001b[0mbatch_size\u001b[0m \u001b[0;32mand\u001b[0m \u001b[0mx\u001b[0m\u001b[0;34m[\u001b[0m\u001b[0;36m0\u001b[0m\u001b[0;34m]\u001b[0m\u001b[0;34m.\u001b[0m\u001b[0mshape\u001b[0m\u001b[0;34m[\u001b[0m\u001b[0;36m0\u001b[0m\u001b[0;34m]\u001b[0m \u001b[0;34m%\u001b[0m \u001b[0mbatch_size\u001b[0m \u001b[0;34m!=\u001b[0m \u001b[0;36m0\u001b[0m\u001b[0;34m:\u001b[0m\u001b[0;34m\u001b[0m\u001b[0m\n",
      "\u001b[0;32m~/anaconda3/envs/exp/lib/python3.6/site-packages/keras/engine/training.py\u001b[0m in \u001b[0;36m_standardize_user_data\u001b[0;34m(self, x, y, sample_weight, class_weight, check_array_lengths, batch_size)\u001b[0m\n\u001b[1;32m    752\u001b[0m             \u001b[0mfeed_input_shapes\u001b[0m\u001b[0;34m,\u001b[0m\u001b[0;34m\u001b[0m\u001b[0m\n\u001b[1;32m    753\u001b[0m             \u001b[0mcheck_batch_axis\u001b[0m\u001b[0;34m=\u001b[0m\u001b[0;32mFalse\u001b[0m\u001b[0;34m,\u001b[0m  \u001b[0;31m# Don't enforce the batch size.\u001b[0m\u001b[0;34m\u001b[0m\u001b[0m\n\u001b[0;32m--> 754\u001b[0;31m             exception_prefix='input')\n\u001b[0m\u001b[1;32m    755\u001b[0m \u001b[0;34m\u001b[0m\u001b[0m\n\u001b[1;32m    756\u001b[0m         \u001b[0;32mif\u001b[0m \u001b[0my\u001b[0m \u001b[0;32mis\u001b[0m \u001b[0;32mnot\u001b[0m \u001b[0;32mNone\u001b[0m\u001b[0;34m:\u001b[0m\u001b[0;34m\u001b[0m\u001b[0m\n",
      "\u001b[0;32m~/anaconda3/envs/exp/lib/python3.6/site-packages/keras/engine/training_utils.py\u001b[0m in \u001b[0;36mstandardize_input_data\u001b[0;34m(data, names, shapes, check_batch_axis, exception_prefix)\u001b[0m\n\u001b[1;32m    134\u001b[0m                             \u001b[0;34m': expected '\u001b[0m \u001b[0;34m+\u001b[0m \u001b[0mnames\u001b[0m\u001b[0;34m[\u001b[0m\u001b[0mi\u001b[0m\u001b[0;34m]\u001b[0m \u001b[0;34m+\u001b[0m \u001b[0;34m' to have shape '\u001b[0m \u001b[0;34m+\u001b[0m\u001b[0;34m\u001b[0m\u001b[0m\n\u001b[1;32m    135\u001b[0m                             \u001b[0mstr\u001b[0m\u001b[0;34m(\u001b[0m\u001b[0mshape\u001b[0m\u001b[0;34m)\u001b[0m \u001b[0;34m+\u001b[0m \u001b[0;34m' but got array with shape '\u001b[0m \u001b[0;34m+\u001b[0m\u001b[0;34m\u001b[0m\u001b[0m\n\u001b[0;32m--> 136\u001b[0;31m                             str(data_shape))\n\u001b[0m\u001b[1;32m    137\u001b[0m     \u001b[0;32mreturn\u001b[0m \u001b[0mdata\u001b[0m\u001b[0;34m\u001b[0m\u001b[0m\n\u001b[1;32m    138\u001b[0m \u001b[0;34m\u001b[0m\u001b[0m\n",
      "\u001b[0;31mValueError\u001b[0m: Error when checking input: expected input_1 to have shape (101, 101, 3) but got array with shape (101, 101, 1)"
     ]
    }
   ],
   "source": [
    "preds_valid = predict_result(model,x_valid,img_size_target)"
   ]
  },
  {
   "cell_type": "code",
   "execution_count": 24,
   "metadata": {
    "_uuid": "5a9b1a900a8a4d031978c3b5ef2e739b5661de73"
   },
   "outputs": [],
   "source": [
    "#Score the model and do a threshold optimization by the best IoU.\n",
    "\n",
    "# src: https://www.kaggle.com/aglotero/another-iou-metric\n",
    "def iou_metric(y_true_in, y_pred_in, print_table=False):\n",
    "    labels = y_true_in\n",
    "    y_pred = y_pred_in\n",
    "\n",
    "\n",
    "    true_objects = 2\n",
    "    pred_objects = 2\n",
    "\n",
    "    #  if all zeros, original code  generate wrong  bins [-0.5 0 0.5],\n",
    "    temp1 = np.histogram2d(labels.flatten(), y_pred.flatten(), bins=([0,0.5,1], [0,0.5, 1]))\n",
    "#     temp1 = np.histogram2d(labels.flatten(), y_pred.flatten(), bins=(true_objects, pred_objects))\n",
    "    #print(temp1)\n",
    "    intersection = temp1[0]\n",
    "    #print(\"temp2 = \",temp1[1])\n",
    "    #print(intersection.shape)\n",
    "   # print(intersection)\n",
    "    # Compute areas (needed for finding the union between all objects)\n",
    "    #print(np.histogram(labels, bins = true_objects))\n",
    "    area_true = np.histogram(labels,bins=[0,0.5,1])[0]\n",
    "    #print(\"area_true = \",area_true)\n",
    "    area_pred = np.histogram(y_pred, bins=[0,0.5,1])[0]\n",
    "    area_true = np.expand_dims(area_true, -1)\n",
    "    area_pred = np.expand_dims(area_pred, 0)\n",
    "\n",
    "    # Compute union\n",
    "    union = area_true + area_pred - intersection\n",
    "  \n",
    "    # Exclude background from the analysis\n",
    "    intersection = intersection[1:,1:]\n",
    "    intersection[intersection == 0] = 1e-9\n",
    "    \n",
    "    union = union[1:,1:]\n",
    "    union[union == 0] = 1e-9\n",
    "\n",
    "    # Compute the intersection over union\n",
    "    iou = intersection / union\n",
    "\n",
    "    # Precision helper function\n",
    "    def precision_at(threshold, iou):\n",
    "        matches = iou > threshold\n",
    "        true_positives = np.sum(matches, axis=1) == 1   # Correct objects\n",
    "        false_positives = np.sum(matches, axis=0) == 0  # Missed objects\n",
    "        false_negatives = np.sum(matches, axis=1) == 0  # Extra objects\n",
    "        tp, fp, fn = np.sum(true_positives), np.sum(false_positives), np.sum(false_negatives)\n",
    "        return tp, fp, fn\n",
    "\n",
    "    # Loop over IoU thresholds\n",
    "    prec = []\n",
    "    if print_table:\n",
    "        print(\"Thresh\\tTP\\tFP\\tFN\\tPrec.\")\n",
    "    for t in np.arange(0.5, 1.0, 0.05):\n",
    "        tp, fp, fn = precision_at(t, iou)\n",
    "        if (tp + fp + fn) > 0:\n",
    "            p = tp / (tp + fp + fn)\n",
    "        else:\n",
    "            p = 0\n",
    "        if print_table:\n",
    "            print(\"{:1.3f}\\t{}\\t{}\\t{}\\t{:1.3f}\".format(t, tp, fp, fn, p))\n",
    "        prec.append(p)\n",
    "    \n",
    "    if print_table:\n",
    "        print(\"AP\\t-\\t-\\t-\\t{:1.3f}\".format(np.mean(prec)))\n",
    "    return np.mean(prec)\n",
    "\n",
    "def iou_metric_batch(y_true_in, y_pred_in):\n",
    "    batch_size = y_true_in.shape[0]\n",
    "    metric = []\n",
    "    for batch in range(batch_size):\n",
    "        value = iou_metric(y_true_in[batch], y_pred_in[batch])\n",
    "        metric.append(value)\n",
    "    return np.mean(metric)\n",
    "\n"
   ]
  },
  {
   "cell_type": "code",
   "execution_count": 25,
   "metadata": {
    "_uuid": "91b1be75d7e8ff74db956c8c846c47ed7576ecb2"
   },
   "outputs": [
    {
     "data": {
      "application/vnd.jupyter.widget-view+json": {
       "model_id": "8c8f445ab0194e008d81e3b9a48b4801",
       "version_major": 2,
       "version_minor": 0
      },
      "text/plain": [
       "HBox(children=(IntProgress(value=0, max=31), HTML(value='')))"
      ]
     },
     "metadata": {},
     "output_type": "display_data"
    },
    {
     "name": "stdout",
     "output_type": "stream",
     "text": [
      "\n",
      "[0.79075  0.793625 0.793625 0.7935   0.79525  0.795125 0.7965   0.795625\n",
      " 0.796375 0.79725  0.797375 0.798    0.79875  0.799    0.7985   0.803125\n",
      " 0.803375 0.804125 0.804625 0.804125 0.8035   0.803375 0.80225  0.801\n",
      " 0.80125  0.800375 0.799625 0.798375 0.797875 0.79625  0.79475 ]\n"
     ]
    }
   ],
   "source": [
    "## Scoring for last model, choose threshold by validation data \n",
    "thresholds_ori = np.linspace(0.3, 0.7, 31)\n",
    "# Reverse sigmoid function: Use code below because the  sigmoid activation was removed\n",
    "thresholds = np.log(thresholds_ori/(1-thresholds_ori)) \n",
    "\n",
    "# ious = np.array([get_iou_vector(y_valid, preds_valid > threshold) for threshold in tqdm_notebook(thresholds)])\n",
    "# print(ious)\n",
    "ious = np.array([iou_metric_batch(y_valid, preds_valid > threshold) for threshold in tqdm_notebook(thresholds)])\n",
    "print(ious)"
   ]
  },
  {
   "cell_type": "code",
   "execution_count": 26,
   "metadata": {
    "_uuid": "1beb285910aa6532d7a69a70afa6a9671e6d347d"
   },
   "outputs": [
    {
     "data": {
      "text/plain": [
       "<matplotlib.legend.Legend at 0x7f3d6b1a87b8>"
      ]
     },
     "execution_count": 26,
     "metadata": {},
     "output_type": "execute_result"
    },
    {
     "data": {
      "image/png": "[encoded data removed]",
      "text/plain": [
       "<Figure size 432x288 with 1 Axes>"
      ]
     },
     "metadata": {},
     "output_type": "display_data"
    }
   ],
   "source": [
    "# instead of using default 0 as threshold, use validation data to find the best threshold.\n",
    "threshold_best_index = np.argmax(ious) \n",
    "iou_best = ious[threshold_best_index]\n",
    "threshold_best = thresholds[threshold_best_index]\n",
    "\n",
    "plt.plot(thresholds, ious)\n",
    "plt.plot(threshold_best, iou_best, \"xr\", label=\"Best threshold\")\n",
    "plt.xlabel(\"Threshold\")\n",
    "plt.ylabel(\"IoU\")\n",
    "plt.title(\"Threshold vs IoU ({}, {})\".format(threshold_best, iou_best))\n",
    "plt.legend()"
   ]
  },
  {
   "cell_type": "code",
   "execution_count": 27,
   "metadata": {
    "_uuid": "2c4852ecf2c504a4ce30e975f5e36b534c2111e6"
   },
   "outputs": [],
   "source": [
    "\"\"\"\n",
    "used for converting the decoded image to rle mask\n",
    "Fast compared to previous one\n",
    "\"\"\"\n",
    "def rle_encode(im):\n",
    "    '''\n",
    "    im: numpy array, 1 - mask, 0 - background\n",
    "    Returns run length as string formated\n",
    "    '''\n",
    "    pixels = im.flatten(order = 'F')\n",
    "    pixels = np.concatenate([[0], pixels, [0]])\n",
    "    runs = np.where(pixels[1:] != pixels[:-1])[0] + 1\n",
    "    runs[1::2] -= runs[::2]\n",
    "    return ' '.join(str(x) for x in runs)"
   ]
  },
  {
   "cell_type": "code",
   "execution_count": 28,
   "metadata": {
    "_uuid": "21bb50645b1c67d907e42c262d92f975668fccac"
   },
   "outputs": [
    {
     "data": {
      "application/vnd.jupyter.widget-view+json": {
       "model_id": "bd0bbef5f9f0444f82bcf1710011a566",
       "version_major": 2,
       "version_minor": 0
      },
      "text/plain": [
       "HBox(children=(IntProgress(value=0, max=18000), HTML(value='')))"
      ]
     },
     "metadata": {},
     "output_type": "display_data"
    },
    {
     "name": "stdout",
     "output_type": "stream",
     "text": [
      "\n"
     ]
    }
   ],
   "source": [
    "x_test = np.array([(np.array(load_img(\"/home/pkovacs/tsg/data/test/images/salt/{}.png\".format(idx), grayscale = True))) / 255 for idx in tqdm_notebook(test_df.index)]).reshape(-1, img_size_target, img_size_target, 1)\n",
    "\n"
   ]
  },
  {
   "cell_type": "code",
   "execution_count": 29,
   "metadata": {
    "_uuid": "ce8185fa64aafbe42ebde98aba984b4f22b0050e"
   },
   "outputs": [],
   "source": [
    "preds_test = predict_result(model,x_test,img_size_target)"
   ]
  },
  {
   "cell_type": "code",
   "execution_count": 30,
   "metadata": {
    "_uuid": "7ccac81a492b9caaff4a25401165e145cf2c6f8e"
   },
   "outputs": [
    {
     "data": {
      "application/vnd.jupyter.widget-view+json": {
       "model_id": "c8b001e6338c4918abf5caad97b1b411",
       "version_major": 2,
       "version_minor": 0
      },
      "text/plain": [
       "HBox(children=(IntProgress(value=0, max=18000), HTML(value='')))"
      ]
     },
     "metadata": {},
     "output_type": "display_data"
    },
    {
     "name": "stdout",
     "output_type": "stream",
     "text": [
      "\n",
      "Usedtime = 4.327839374542236 s\n"
     ]
    }
   ],
   "source": [
    "\n",
    "t1 = time.time()\n",
    "pred_dict = {idx: rle_encode(np.round(downsample(preds_test[i]) > threshold_best)) for i, idx in enumerate(tqdm_notebook(test_df.index.values))}\n",
    "t2 = time.time()\n",
    "\n",
    "print(f\"Usedtime = {t2-t1} s\")"
   ]
  },
  {
   "cell_type": "code",
   "execution_count": 31,
   "metadata": {
    "_uuid": "770d7d596656f4f1ad17a6063ad662ac80e11b24"
   },
   "outputs": [],
   "source": [
    "sub = pd.DataFrame.from_dict(pred_dict,orient='index')\n",
    "sub.index.names = ['id']\n",
    "sub.columns = ['rle_mask']\n",
    "sub.to_csv(submission_file)"
   ]
  },
  {
   "cell_type": "code",
   "execution_count": 32,
   "metadata": {
    "_uuid": "c89c406884ee54bee2c57aff51b116c157553ae9"
   },
   "outputs": [
    {
     "name": "stdout",
     "output_type": "stream",
     "text": [
      "Kernel run time = 1.6585195167197122 hours\n"
     ]
    }
   ],
   "source": [
    "t_finish = time.time()\n",
    "print(f\"Kernel run time = {(t_finish-t_start)/3600} hours\")"
   ]
  },
  {
   "cell_type": "code",
   "execution_count": null,
   "metadata": {
    "_uuid": "a3009187c164635fbe163bd8ce406c2e309b1e5f"
   },
   "outputs": [],
   "source": []
  }
 ],
 "metadata": {
  "kernelspec": {
   "display_name": "Python 3",
   "language": "python",
   "name": "python3"
  },
  "language_info": {
   "codemirror_mode": {
    "name": "ipython",
    "version": 3
   },
   "file_extension": ".py",
   "mimetype": "text/x-python",
   "name": "python",
   "nbconvert_exporter": "python",
   "pygments_lexer": "ipython3",
   "version": "3.6.5"
  }
 },
 "nbformat": 4,
 "nbformat_minor": 1
}
